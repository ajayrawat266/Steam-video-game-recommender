{
 "cells": [
  {
   "cell_type": "markdown",
   "id": "385b712c",
   "metadata": {},
   "source": [
    "# Project Goal\n",
    "\n",
    "The goal of this project was to build a game recommendation system using player data from Steam.\n",
    "The system looks at what games people bought or played and then suggests other games they might like."
   ]
  },
  {
   "cell_type": "markdown",
   "id": "d076d78a",
   "metadata": {},
   "source": [
    "### Setting up Environment"
   ]
  },
  {
   "cell_type": "code",
   "execution_count": 1,
   "id": "9740774e",
   "metadata": {},
   "outputs": [
    {
     "name": "stdout",
     "output_type": "stream",
     "text": [
      "Collecting duckdb\n",
      "  Downloading duckdb-1.4.0-cp39-cp39-macosx_10_9_x86_64.whl (17.3 MB)\n",
      "\u001b[2K     \u001b[90m━━━━━━━━━━━━━━━━━━━━━━━━━━━━━━━━━━━━━━━━\u001b[0m \u001b[32m17.3/17.3 MB\u001b[0m \u001b[31m7.5 MB/s\u001b[0m eta \u001b[36m0:00:00\u001b[0m00:01\u001b[0m00:01\u001b[0m\n",
      "\u001b[?25hRequirement already satisfied: pandas in /Users/ajayrawat/opt/anaconda3/lib/python3.9/site-packages (1.4.4)\n",
      "Requirement already satisfied: numpy in /Users/ajayrawat/opt/anaconda3/lib/python3.9/site-packages (1.23.5)\n",
      "Requirement already satisfied: python-dateutil>=2.8.1 in /Users/ajayrawat/opt/anaconda3/lib/python3.9/site-packages (from pandas) (2.8.2)\n",
      "Requirement already satisfied: pytz>=2020.1 in /Users/ajayrawat/opt/anaconda3/lib/python3.9/site-packages (from pandas) (2022.1)\n",
      "Requirement already satisfied: six>=1.5 in /Users/ajayrawat/opt/anaconda3/lib/python3.9/site-packages (from python-dateutil>=2.8.1->pandas) (1.16.0)\n",
      "Installing collected packages: duckdb\n",
      "Successfully installed duckdb-1.4.0\n"
     ]
    }
   ],
   "source": [
    "!pip install duckdb pandas numpy"
   ]
  },
  {
   "cell_type": "code",
   "execution_count": 2,
   "id": "e4bb04e6",
   "metadata": {},
   "outputs": [
    {
     "name": "stdout",
     "output_type": "stream",
     "text": [
      "Environment ready\n"
     ]
    }
   ],
   "source": [
    "import duckdb, pandas as pd, numpy as np\n",
    "print(\"Environment ready\")"
   ]
  },
  {
   "cell_type": "markdown",
   "id": "89aca680",
   "metadata": {},
   "source": [
    "### Loading Raw CSV file in DuckDB"
   ]
  },
  {
   "cell_type": "code",
   "execution_count": 3,
   "id": "a2be1ed2",
   "metadata": {},
   "outputs": [],
   "source": [
    "con = duckdb.connect(database=':memory:')\n",
    "\n",
    "### Creates an in-memory SQL database for temporary data analysis."
   ]
  },
  {
   "cell_type": "code",
   "execution_count": 4,
   "id": "4b863c00",
   "metadata": {},
   "outputs": [
    {
     "data": {
      "text/plain": [
       "<_duckdb.DuckDBPyConnection at 0x7f84427894f0>"
      ]
     },
     "execution_count": 4,
     "metadata": {},
     "output_type": "execute_result"
    }
   ],
   "source": [
    "con.execute(\"\"\"\n",
    "CREATE OR REPLACE TABLE raw AS\n",
    "SELECT\n",
    "  CAST(column0 AS VARCHAR)      AS user_id,\n",
    "  TRIM(column1)                 AS game_title,\n",
    "  TRIM(column2)                 AS behavior_name,\n",
    "  TRY_CAST(column3 AS DOUBLE)   AS value\n",
    "FROM read_csv_auto('steam-200k.csv', HEADER=FALSE)\n",
    "\"\"\")"
   ]
  },
  {
   "cell_type": "markdown",
   "id": "b9ead67e",
   "metadata": {},
   "source": [
    "#### What we did:\n",
    "\n",
    "\t•\tread_csv_auto() → reads the file automatically (no header, so we use generic columns).\n",
    "\t•\tTRIM() → removes unwanted spaces in text fields.\n",
    "\t•\tTRY_CAST() → safely converts to numeric (if conversion fails, it becomes NULL).\n",
    "\t•\tAS → renames columns into readable names."
   ]
  },
  {
   "cell_type": "code",
   "execution_count": 5,
   "id": "4c4e0f04",
   "metadata": {},
   "outputs": [
    {
     "data": {
      "text/html": [
       "<div>\n",
       "<style scoped>\n",
       "    .dataframe tbody tr th:only-of-type {\n",
       "        vertical-align: middle;\n",
       "    }\n",
       "\n",
       "    .dataframe tbody tr th {\n",
       "        vertical-align: top;\n",
       "    }\n",
       "\n",
       "    .dataframe thead th {\n",
       "        text-align: right;\n",
       "    }\n",
       "</style>\n",
       "<table border=\"1\" class=\"dataframe\">\n",
       "  <thead>\n",
       "    <tr style=\"text-align: right;\">\n",
       "      <th></th>\n",
       "      <th>user_id</th>\n",
       "      <th>game_title</th>\n",
       "      <th>behavior_name</th>\n",
       "      <th>value</th>\n",
       "    </tr>\n",
       "  </thead>\n",
       "  <tbody>\n",
       "    <tr>\n",
       "      <th>0</th>\n",
       "      <td>151603712</td>\n",
       "      <td>The Elder Scrolls V Skyrim</td>\n",
       "      <td>purchase</td>\n",
       "      <td>1.0</td>\n",
       "    </tr>\n",
       "    <tr>\n",
       "      <th>1</th>\n",
       "      <td>151603712</td>\n",
       "      <td>The Elder Scrolls V Skyrim</td>\n",
       "      <td>play</td>\n",
       "      <td>273.0</td>\n",
       "    </tr>\n",
       "    <tr>\n",
       "      <th>2</th>\n",
       "      <td>151603712</td>\n",
       "      <td>Fallout 4</td>\n",
       "      <td>purchase</td>\n",
       "      <td>1.0</td>\n",
       "    </tr>\n",
       "    <tr>\n",
       "      <th>3</th>\n",
       "      <td>151603712</td>\n",
       "      <td>Fallout 4</td>\n",
       "      <td>play</td>\n",
       "      <td>87.0</td>\n",
       "    </tr>\n",
       "    <tr>\n",
       "      <th>4</th>\n",
       "      <td>151603712</td>\n",
       "      <td>Spore</td>\n",
       "      <td>purchase</td>\n",
       "      <td>1.0</td>\n",
       "    </tr>\n",
       "  </tbody>\n",
       "</table>\n",
       "</div>"
      ],
      "text/plain": [
       "     user_id                  game_title behavior_name  value\n",
       "0  151603712  The Elder Scrolls V Skyrim      purchase    1.0\n",
       "1  151603712  The Elder Scrolls V Skyrim          play  273.0\n",
       "2  151603712                   Fallout 4      purchase    1.0\n",
       "3  151603712                   Fallout 4          play   87.0\n",
       "4  151603712                       Spore      purchase    1.0"
      ]
     },
     "execution_count": 5,
     "metadata": {},
     "output_type": "execute_result"
    }
   ],
   "source": [
    "con.execute(\"SELECT * FROM raw LIMIT 5\").df()\n",
    "\n",
    "### Converts SQL query result to a pandas DataFrame for easy preview and further analysis."
   ]
  },
  {
   "cell_type": "markdown",
   "id": "4a617a8b",
   "metadata": {},
   "source": [
    "## Creating the cleaned, transformed dataset\n",
    "\n",
    "### Build the Silver table (pivot purchase/play)\n",
    "\n",
    "Create one clean row per user + game with two signals: purchased -> count of purchase events (0 or 1 for this dataset) and hours_played -> sum of play-hours across events (0 if none).\n",
    "\n",
    "also here we will keep only rows where the user did something i.e. Purchased and hours played > 0"
   ]
  },
  {
   "cell_type": "code",
   "execution_count": 6,
   "id": "14589cfa",
   "metadata": {},
   "outputs": [
    {
     "data": {
      "text/plain": [
       "<_duckdb.DuckDBPyConnection at 0x7f84427894f0>"
      ]
     },
     "execution_count": 6,
     "metadata": {},
     "output_type": "execute_result"
    }
   ],
   "source": [
    "# Creating the SILVER table from RAW\n",
    "con.execute(\"\"\"\n",
    "CREATE OR REPLACE TABLE silver AS\n",
    "SELECT\n",
    "  user_id,\n",
    "  game_title,\n",
    "  SUM(CASE WHEN behavior_name = 'purchase' THEN 1 ELSE 0 END) AS purchased,\n",
    "  SUM(CASE WHEN behavior_name = 'play' THEN COALESCE(value, 0) ELSE 0 END) AS hours_played\n",
    "FROM raw\n",
    "GROUP BY 1, 2\n",
    "HAVING\n",
    "  SUM(CASE WHEN behavior_name = 'purchase' THEN 1 ELSE 0 END) > 0\n",
    "  OR\n",
    "  SUM(CASE WHEN behavior_name = 'play' THEN COALESCE(value, 0) ELSE 0 END) > 0\n",
    "\"\"\")"
   ]
  },
  {
   "cell_type": "code",
   "execution_count": 7,
   "id": "c60a75c5",
   "metadata": {},
   "outputs": [
    {
     "data": {
      "text/html": [
       "<div>\n",
       "<style scoped>\n",
       "    .dataframe tbody tr th:only-of-type {\n",
       "        vertical-align: middle;\n",
       "    }\n",
       "\n",
       "    .dataframe tbody tr th {\n",
       "        vertical-align: top;\n",
       "    }\n",
       "\n",
       "    .dataframe thead th {\n",
       "        text-align: right;\n",
       "    }\n",
       "</style>\n",
       "<table border=\"1\" class=\"dataframe\">\n",
       "  <thead>\n",
       "    <tr style=\"text-align: right;\">\n",
       "      <th></th>\n",
       "      <th>user_id</th>\n",
       "      <th>game_title</th>\n",
       "      <th>purchased</th>\n",
       "      <th>hours_played</th>\n",
       "    </tr>\n",
       "  </thead>\n",
       "  <tbody>\n",
       "    <tr>\n",
       "      <th>0</th>\n",
       "      <td>76892907</td>\n",
       "      <td>Gratuitous Space Battles</td>\n",
       "      <td>1.0</td>\n",
       "      <td>0.0</td>\n",
       "    </tr>\n",
       "    <tr>\n",
       "      <th>1</th>\n",
       "      <td>76892907</td>\n",
       "      <td>Guilty Gear X2 #Reload</td>\n",
       "      <td>1.0</td>\n",
       "      <td>0.0</td>\n",
       "    </tr>\n",
       "    <tr>\n",
       "      <th>2</th>\n",
       "      <td>76892907</td>\n",
       "      <td>Kane &amp; Lynch 2 Dog Days</td>\n",
       "      <td>1.0</td>\n",
       "      <td>0.0</td>\n",
       "    </tr>\n",
       "    <tr>\n",
       "      <th>3</th>\n",
       "      <td>76892907</td>\n",
       "      <td>Might &amp; Magic Clash of Heroes</td>\n",
       "      <td>1.0</td>\n",
       "      <td>0.0</td>\n",
       "    </tr>\n",
       "    <tr>\n",
       "      <th>4</th>\n",
       "      <td>76892907</td>\n",
       "      <td>Sam &amp; Max 202 Moai Better Blues</td>\n",
       "      <td>1.0</td>\n",
       "      <td>0.0</td>\n",
       "    </tr>\n",
       "  </tbody>\n",
       "</table>\n",
       "</div>"
      ],
      "text/plain": [
       "    user_id                       game_title  purchased  hours_played\n",
       "0  76892907         Gratuitous Space Battles        1.0           0.0\n",
       "1  76892907           Guilty Gear X2 #Reload        1.0           0.0\n",
       "2  76892907          Kane & Lynch 2 Dog Days        1.0           0.0\n",
       "3  76892907    Might & Magic Clash of Heroes        1.0           0.0\n",
       "4  76892907  Sam & Max 202 Moai Better Blues        1.0           0.0"
      ]
     },
     "execution_count": 7,
     "metadata": {},
     "output_type": "execute_result"
    }
   ],
   "source": [
    "con.execute(\"select * from silver limit 5\").df()"
   ]
  },
  {
   "cell_type": "markdown",
   "id": "343958fc",
   "metadata": {},
   "source": [
    "#### What we did:\n",
    "\t•\tGroups events by user_id, game_title.\n",
    "\t•\tpurchased = 1 if they bought it (else 0).\n",
    "\t•\thours_played = total hours they played.\n",
    "\t•\tDrops empty pairs (no purchase and no play)."
   ]
  },
  {
   "cell_type": "code",
   "execution_count": 9,
   "id": "620c5c5b",
   "metadata": {},
   "outputs": [
    {
     "data": {
      "text/html": [
       "<div>\n",
       "<style scoped>\n",
       "    .dataframe tbody tr th:only-of-type {\n",
       "        vertical-align: middle;\n",
       "    }\n",
       "\n",
       "    .dataframe tbody tr th {\n",
       "        vertical-align: top;\n",
       "    }\n",
       "\n",
       "    .dataframe thead th {\n",
       "        text-align: right;\n",
       "    }\n",
       "</style>\n",
       "<table border=\"1\" class=\"dataframe\">\n",
       "  <thead>\n",
       "    <tr style=\"text-align: right;\">\n",
       "      <th></th>\n",
       "      <th>total_rows</th>\n",
       "    </tr>\n",
       "  </thead>\n",
       "  <tbody>\n",
       "    <tr>\n",
       "      <th>0</th>\n",
       "      <td>128801</td>\n",
       "    </tr>\n",
       "  </tbody>\n",
       "</table>\n",
       "</div>"
      ],
      "text/plain": [
       "   total_rows\n",
       "0      128801"
      ]
     },
     "execution_count": 9,
     "metadata": {},
     "output_type": "execute_result"
    }
   ],
   "source": [
    "# Doing basic checks\n",
    "\n",
    "# 1. Total rows\n",
    "con.execute(\"SELECT COUNT(*) AS total_rows FROM silver\").df()"
   ]
  },
  {
   "cell_type": "code",
   "execution_count": 10,
   "id": "0a7a0790",
   "metadata": {},
   "outputs": [
    {
     "data": {
      "text/html": [
       "<div>\n",
       "<style scoped>\n",
       "    .dataframe tbody tr th:only-of-type {\n",
       "        vertical-align: middle;\n",
       "    }\n",
       "\n",
       "    .dataframe tbody tr th {\n",
       "        vertical-align: top;\n",
       "    }\n",
       "\n",
       "    .dataframe thead th {\n",
       "        text-align: right;\n",
       "    }\n",
       "</style>\n",
       "<table border=\"1\" class=\"dataframe\">\n",
       "  <thead>\n",
       "    <tr style=\"text-align: right;\">\n",
       "      <th></th>\n",
       "      <th>unique_users</th>\n",
       "      <th>unique_games</th>\n",
       "    </tr>\n",
       "  </thead>\n",
       "  <tbody>\n",
       "    <tr>\n",
       "      <th>0</th>\n",
       "      <td>12393</td>\n",
       "      <td>5153</td>\n",
       "    </tr>\n",
       "  </tbody>\n",
       "</table>\n",
       "</div>"
      ],
      "text/plain": [
       "   unique_users  unique_games\n",
       "0         12393          5153"
      ]
     },
     "execution_count": 10,
     "metadata": {},
     "output_type": "execute_result"
    }
   ],
   "source": [
    "# 2. Distinct users and games\n",
    "con.execute(\"\"\"\n",
    "SELECT \n",
    "  COUNT(DISTINCT user_id) AS unique_users,\n",
    "  COUNT(DISTINCT game_title) AS unique_games\n",
    "FROM silver\n",
    "\"\"\").df()"
   ]
  },
  {
   "cell_type": "code",
   "execution_count": 11,
   "id": "25379f76",
   "metadata": {},
   "outputs": [
    {
     "data": {
      "text/html": [
       "<div>\n",
       "<style scoped>\n",
       "    .dataframe tbody tr th:only-of-type {\n",
       "        vertical-align: middle;\n",
       "    }\n",
       "\n",
       "    .dataframe tbody tr th {\n",
       "        vertical-align: top;\n",
       "    }\n",
       "\n",
       "    .dataframe thead th {\n",
       "        text-align: right;\n",
       "    }\n",
       "</style>\n",
       "<table border=\"1\" class=\"dataframe\">\n",
       "  <thead>\n",
       "    <tr style=\"text-align: right;\">\n",
       "      <th></th>\n",
       "      <th>avg_purchased</th>\n",
       "      <th>avg_hours</th>\n",
       "      <th>max_hours</th>\n",
       "    </tr>\n",
       "  </thead>\n",
       "  <tbody>\n",
       "    <tr>\n",
       "      <th>0</th>\n",
       "      <td>1.005512</td>\n",
       "      <td>26.749527</td>\n",
       "      <td>11754.0</td>\n",
       "    </tr>\n",
       "  </tbody>\n",
       "</table>\n",
       "</div>"
      ],
      "text/plain": [
       "   avg_purchased  avg_hours  max_hours\n",
       "0       1.005512  26.749527    11754.0"
      ]
     },
     "execution_count": 11,
     "metadata": {},
     "output_type": "execute_result"
    }
   ],
   "source": [
    "# 3. Averages and basic stats\n",
    "con.execute(\"\"\"\n",
    "SELECT \n",
    "  AVG(purchased) AS avg_purchased,\n",
    "  AVG(hours_played) AS avg_hours,\n",
    "  MAX(hours_played) AS max_hours\n",
    "FROM silver\n",
    "\"\"\").df()"
   ]
  },
  {
   "cell_type": "markdown",
   "id": "38d90979",
   "metadata": {},
   "source": [
    "## Building Gold Table which will be used for modeling\n",
    "\n",
    "### Here we will build a preference score using this formula: implicit_pref = (purchased × 2) + log(1 + hours_played)\n",
    "\n",
    "it gives higher weight to purchases, but still rewards playtime and log(1 + x) dampens extreme values (so someone playing 500 hours isn’t 500× more important)\n",
    "\n",
    "Also implicit_pref column becomes our rating signal for recommendation modeling"
   ]
  },
  {
   "cell_type": "code",
   "execution_count": 12,
   "id": "5a2c27c0",
   "metadata": {},
   "outputs": [
    {
     "data": {
      "text/plain": [
       "<_duckdb.DuckDBPyConnection at 0x7f84427894f0>"
      ]
     },
     "execution_count": 12,
     "metadata": {},
     "output_type": "execute_result"
    }
   ],
   "source": [
    "con.execute(\"\"\"\n",
    "CREATE OR REPLACE TABLE gold_user_game AS\n",
    "SELECT\n",
    "  user_id,\n",
    "  game_title,\n",
    "  purchased,\n",
    "  hours_played,\n",
    "  (purchased * 2.0) + log(1 + hours_played) AS implicit_pref\n",
    "FROM silver\n",
    "\"\"\")"
   ]
  },
  {
   "cell_type": "code",
   "execution_count": 13,
   "id": "80810eea",
   "metadata": {},
   "outputs": [
    {
     "data": {
      "text/html": [
       "<div>\n",
       "<style scoped>\n",
       "    .dataframe tbody tr th:only-of-type {\n",
       "        vertical-align: middle;\n",
       "    }\n",
       "\n",
       "    .dataframe tbody tr th {\n",
       "        vertical-align: top;\n",
       "    }\n",
       "\n",
       "    .dataframe thead th {\n",
       "        text-align: right;\n",
       "    }\n",
       "</style>\n",
       "<table border=\"1\" class=\"dataframe\">\n",
       "  <thead>\n",
       "    <tr style=\"text-align: right;\">\n",
       "      <th></th>\n",
       "      <th>user_id</th>\n",
       "      <th>game_title</th>\n",
       "      <th>purchased</th>\n",
       "      <th>hours_played</th>\n",
       "      <th>implicit_pref</th>\n",
       "    </tr>\n",
       "  </thead>\n",
       "  <tbody>\n",
       "    <tr>\n",
       "      <th>0</th>\n",
       "      <td>76892907</td>\n",
       "      <td>Gratuitous Space Battles</td>\n",
       "      <td>1.0</td>\n",
       "      <td>0.0</td>\n",
       "      <td>2.0</td>\n",
       "    </tr>\n",
       "    <tr>\n",
       "      <th>1</th>\n",
       "      <td>76892907</td>\n",
       "      <td>Guilty Gear X2 #Reload</td>\n",
       "      <td>1.0</td>\n",
       "      <td>0.0</td>\n",
       "      <td>2.0</td>\n",
       "    </tr>\n",
       "    <tr>\n",
       "      <th>2</th>\n",
       "      <td>76892907</td>\n",
       "      <td>Kane &amp; Lynch 2 Dog Days</td>\n",
       "      <td>1.0</td>\n",
       "      <td>0.0</td>\n",
       "      <td>2.0</td>\n",
       "    </tr>\n",
       "    <tr>\n",
       "      <th>3</th>\n",
       "      <td>76892907</td>\n",
       "      <td>Might &amp; Magic Clash of Heroes</td>\n",
       "      <td>1.0</td>\n",
       "      <td>0.0</td>\n",
       "      <td>2.0</td>\n",
       "    </tr>\n",
       "    <tr>\n",
       "      <th>4</th>\n",
       "      <td>76892907</td>\n",
       "      <td>Sam &amp; Max 202 Moai Better Blues</td>\n",
       "      <td>1.0</td>\n",
       "      <td>0.0</td>\n",
       "      <td>2.0</td>\n",
       "    </tr>\n",
       "  </tbody>\n",
       "</table>\n",
       "</div>"
      ],
      "text/plain": [
       "    user_id                       game_title  purchased  hours_played  \\\n",
       "0  76892907         Gratuitous Space Battles        1.0           0.0   \n",
       "1  76892907           Guilty Gear X2 #Reload        1.0           0.0   \n",
       "2  76892907          Kane & Lynch 2 Dog Days        1.0           0.0   \n",
       "3  76892907    Might & Magic Clash of Heroes        1.0           0.0   \n",
       "4  76892907  Sam & Max 202 Moai Better Blues        1.0           0.0   \n",
       "\n",
       "   implicit_pref  \n",
       "0            2.0  \n",
       "1            2.0  \n",
       "2            2.0  \n",
       "3            2.0  \n",
       "4            2.0  "
      ]
     },
     "execution_count": 13,
     "metadata": {},
     "output_type": "execute_result"
    }
   ],
   "source": [
    "con.execute(\"SELECT * FROM gold_user_game LIMIT 5\").df()"
   ]
  },
  {
   "cell_type": "markdown",
   "id": "681ec349",
   "metadata": {},
   "source": [
    "### Exporting clean tables for modeling"
   ]
  },
  {
   "cell_type": "code",
   "execution_count": 14,
   "id": "63b93ec4",
   "metadata": {},
   "outputs": [],
   "source": [
    "import os\n",
    "os.makedirs(\"artifacts\", exist_ok=True)\n",
    "\n",
    "#Creates a folder to store exported data."
   ]
  },
  {
   "cell_type": "code",
   "execution_count": 15,
   "id": "a0f744ac",
   "metadata": {},
   "outputs": [],
   "source": [
    "# 1) Export GOLD table\n",
    "gold = con.execute(\"SELECT * FROM gold_user_game\").df()\n",
    "gold.to_csv(\"artifacts/gold_user_game.csv\", index=False)"
   ]
  },
  {
   "cell_type": "code",
   "execution_count": 16,
   "id": "12e1c553",
   "metadata": {},
   "outputs": [],
   "source": [
    "# 2) Export user lookup (user_id -> userId)\n",
    "user_ids = con.execute(\"\"\"\n",
    "SELECT user_id,\n",
    "       ROW_NUMBER() OVER (ORDER BY user_id) - 1 AS userId\n",
    "FROM (SELECT DISTINCT user_id FROM gold_user_game)\n",
    "ORDER BY user_id\n",
    "\"\"\").df()"
   ]
  },
  {
   "cell_type": "code",
   "execution_count": 17,
   "id": "4038d0e6",
   "metadata": {},
   "outputs": [
    {
     "data": {
      "text/html": [
       "<div>\n",
       "<style scoped>\n",
       "    .dataframe tbody tr th:only-of-type {\n",
       "        vertical-align: middle;\n",
       "    }\n",
       "\n",
       "    .dataframe tbody tr th {\n",
       "        vertical-align: top;\n",
       "    }\n",
       "\n",
       "    .dataframe thead th {\n",
       "        text-align: right;\n",
       "    }\n",
       "</style>\n",
       "<table border=\"1\" class=\"dataframe\">\n",
       "  <thead>\n",
       "    <tr style=\"text-align: right;\">\n",
       "      <th></th>\n",
       "      <th>user_id</th>\n",
       "      <th>userId</th>\n",
       "    </tr>\n",
       "  </thead>\n",
       "  <tbody>\n",
       "    <tr>\n",
       "      <th>0</th>\n",
       "      <td>100012061</td>\n",
       "      <td>0</td>\n",
       "    </tr>\n",
       "    <tr>\n",
       "      <th>1</th>\n",
       "      <td>100053304</td>\n",
       "      <td>1</td>\n",
       "    </tr>\n",
       "    <tr>\n",
       "      <th>2</th>\n",
       "      <td>100057229</td>\n",
       "      <td>2</td>\n",
       "    </tr>\n",
       "    <tr>\n",
       "      <th>3</th>\n",
       "      <td>100070732</td>\n",
       "      <td>3</td>\n",
       "    </tr>\n",
       "    <tr>\n",
       "      <th>4</th>\n",
       "      <td>100096071</td>\n",
       "      <td>4</td>\n",
       "    </tr>\n",
       "  </tbody>\n",
       "</table>\n",
       "</div>"
      ],
      "text/plain": [
       "     user_id  userId\n",
       "0  100012061       0\n",
       "1  100053304       1\n",
       "2  100057229       2\n",
       "3  100070732       3\n",
       "4  100096071       4"
      ]
     },
     "execution_count": 17,
     "metadata": {},
     "output_type": "execute_result"
    }
   ],
   "source": [
    "user_ids.head(5)"
   ]
  },
  {
   "cell_type": "code",
   "execution_count": 18,
   "id": "a20e9a7c",
   "metadata": {},
   "outputs": [],
   "source": [
    "user_ids.to_csv(\"artifacts/user_ids.csv\", index=False)"
   ]
  },
  {
   "cell_type": "code",
   "execution_count": 19,
   "id": "94fa32f1",
   "metadata": {},
   "outputs": [
    {
     "data": {
      "text/html": [
       "<div>\n",
       "<style scoped>\n",
       "    .dataframe tbody tr th:only-of-type {\n",
       "        vertical-align: middle;\n",
       "    }\n",
       "\n",
       "    .dataframe tbody tr th {\n",
       "        vertical-align: top;\n",
       "    }\n",
       "\n",
       "    .dataframe thead th {\n",
       "        text-align: right;\n",
       "    }\n",
       "</style>\n",
       "<table border=\"1\" class=\"dataframe\">\n",
       "  <thead>\n",
       "    <tr style=\"text-align: right;\">\n",
       "      <th></th>\n",
       "      <th>game_title</th>\n",
       "      <th>itemId</th>\n",
       "    </tr>\n",
       "  </thead>\n",
       "  <tbody>\n",
       "    <tr>\n",
       "      <th>0</th>\n",
       "      <td>007 Legends</td>\n",
       "      <td>0</td>\n",
       "    </tr>\n",
       "    <tr>\n",
       "      <th>1</th>\n",
       "      <td>0RBITALIS</td>\n",
       "      <td>1</td>\n",
       "    </tr>\n",
       "    <tr>\n",
       "      <th>2</th>\n",
       "      <td>1... 2... 3... KICK IT! (Drop That Beat Like a...</td>\n",
       "      <td>2</td>\n",
       "    </tr>\n",
       "    <tr>\n",
       "      <th>3</th>\n",
       "      <td>10 Second Ninja</td>\n",
       "      <td>3</td>\n",
       "    </tr>\n",
       "    <tr>\n",
       "      <th>4</th>\n",
       "      <td>10,000,000</td>\n",
       "      <td>4</td>\n",
       "    </tr>\n",
       "    <tr>\n",
       "      <th>5</th>\n",
       "      <td>100% Orange Juice</td>\n",
       "      <td>5</td>\n",
       "    </tr>\n",
       "    <tr>\n",
       "      <th>6</th>\n",
       "      <td>1000 Amps</td>\n",
       "      <td>6</td>\n",
       "    </tr>\n",
       "    <tr>\n",
       "      <th>7</th>\n",
       "      <td>12 Labours of Hercules</td>\n",
       "      <td>7</td>\n",
       "    </tr>\n",
       "    <tr>\n",
       "      <th>8</th>\n",
       "      <td>12 Labours of Hercules II The Cretan Bull</td>\n",
       "      <td>8</td>\n",
       "    </tr>\n",
       "    <tr>\n",
       "      <th>9</th>\n",
       "      <td>12 Labours of Hercules III Girl Power</td>\n",
       "      <td>9</td>\n",
       "    </tr>\n",
       "    <tr>\n",
       "      <th>10</th>\n",
       "      <td>140</td>\n",
       "      <td>10</td>\n",
       "    </tr>\n",
       "    <tr>\n",
       "      <th>11</th>\n",
       "      <td>15 Days</td>\n",
       "      <td>11</td>\n",
       "    </tr>\n",
       "    <tr>\n",
       "      <th>12</th>\n",
       "      <td>16 Bit Arena</td>\n",
       "      <td>12</td>\n",
       "    </tr>\n",
       "    <tr>\n",
       "      <th>13</th>\n",
       "      <td>16bit Trader</td>\n",
       "      <td>13</td>\n",
       "    </tr>\n",
       "    <tr>\n",
       "      <th>14</th>\n",
       "      <td>1701 A.D. Gold Edition</td>\n",
       "      <td>14</td>\n",
       "    </tr>\n",
       "  </tbody>\n",
       "</table>\n",
       "</div>"
      ],
      "text/plain": [
       "                                           game_title  itemId\n",
       "0                                         007 Legends       0\n",
       "1                                           0RBITALIS       1\n",
       "2   1... 2... 3... KICK IT! (Drop That Beat Like a...       2\n",
       "3                                     10 Second Ninja       3\n",
       "4                                          10,000,000       4\n",
       "5                                   100% Orange Juice       5\n",
       "6                                           1000 Amps       6\n",
       "7                              12 Labours of Hercules       7\n",
       "8           12 Labours of Hercules II The Cretan Bull       8\n",
       "9               12 Labours of Hercules III Girl Power       9\n",
       "10                                                140      10\n",
       "11                                            15 Days      11\n",
       "12                                       16 Bit Arena      12\n",
       "13                                       16bit Trader      13\n",
       "14                             1701 A.D. Gold Edition      14"
      ]
     },
     "execution_count": 19,
     "metadata": {},
     "output_type": "execute_result"
    }
   ],
   "source": [
    "# 3) Export item lookup (game_title -> itemId)\n",
    "item_ids = con.execute(\"\"\"\n",
    "SELECT game_title,\n",
    "       ROW_NUMBER() OVER (ORDER BY game_title) - 1 AS itemId\n",
    "FROM (SELECT DISTINCT game_title FROM gold_user_game)\n",
    "ORDER BY game_title\n",
    "\"\"\").df()\n",
    "\n",
    "item_ids.head(15)"
   ]
  },
  {
   "cell_type": "code",
   "execution_count": 20,
   "id": "6cf2535e",
   "metadata": {},
   "outputs": [],
   "source": [
    "item_ids.to_csv(\"artifacts/item_ids.csv\", index=False)"
   ]
  },
  {
   "cell_type": "code",
   "execution_count": 21,
   "id": "265db40c",
   "metadata": {},
   "outputs": [
    {
     "data": {
      "text/plain": [
       "(128801, 12393, 5153)"
      ]
     },
     "execution_count": 21,
     "metadata": {},
     "output_type": "execute_result"
    }
   ],
   "source": [
    "len(gold), len(user_ids), len(item_ids)"
   ]
  },
  {
   "cell_type": "code",
   "execution_count": 22,
   "id": "017014fe",
   "metadata": {},
   "outputs": [
    {
     "name": "stdout",
     "output_type": "stream",
     "text": [
      "gold_user_game: (128801, 5)\n",
      "user_ids: (12393, 2)\n",
      "item_ids: (5153, 2)\n"
     ]
    }
   ],
   "source": [
    "import pandas as pd\n",
    "\n",
    "# reloading the exported CSVs\n",
    "gold_test = pd.read_csv(\"artifacts/gold_user_game.csv\")\n",
    "user_ids_test = pd.read_csv(\"artifacts/user_ids.csv\")\n",
    "item_ids_test = pd.read_csv(\"artifacts/item_ids.csv\")\n",
    "\n",
    "# checking dimensions\n",
    "print(\"gold_user_game:\", gold_test.shape)\n",
    "print(\"user_ids:\", user_ids_test.shape)\n",
    "print(\"item_ids:\", item_ids_test.shape)"
   ]
  },
  {
   "cell_type": "code",
   "execution_count": 23,
   "id": "34833ec7",
   "metadata": {},
   "outputs": [
    {
     "data": {
      "text/html": [
       "<div>\n",
       "<style scoped>\n",
       "    .dataframe tbody tr th:only-of-type {\n",
       "        vertical-align: middle;\n",
       "    }\n",
       "\n",
       "    .dataframe tbody tr th {\n",
       "        vertical-align: top;\n",
       "    }\n",
       "\n",
       "    .dataframe thead th {\n",
       "        text-align: right;\n",
       "    }\n",
       "</style>\n",
       "<table border=\"1\" class=\"dataframe\">\n",
       "  <thead>\n",
       "    <tr style=\"text-align: right;\">\n",
       "      <th></th>\n",
       "      <th>user_id</th>\n",
       "      <th>game_title</th>\n",
       "      <th>purchased</th>\n",
       "      <th>hours_played</th>\n",
       "      <th>implicit_pref</th>\n",
       "    </tr>\n",
       "  </thead>\n",
       "  <tbody>\n",
       "    <tr>\n",
       "      <th>0</th>\n",
       "      <td>76892907</td>\n",
       "      <td>Gratuitous Space Battles</td>\n",
       "      <td>1.0</td>\n",
       "      <td>0.0</td>\n",
       "      <td>2.0</td>\n",
       "    </tr>\n",
       "    <tr>\n",
       "      <th>1</th>\n",
       "      <td>76892907</td>\n",
       "      <td>Guilty Gear X2 #Reload</td>\n",
       "      <td>1.0</td>\n",
       "      <td>0.0</td>\n",
       "      <td>2.0</td>\n",
       "    </tr>\n",
       "    <tr>\n",
       "      <th>2</th>\n",
       "      <td>76892907</td>\n",
       "      <td>Kane &amp; Lynch 2 Dog Days</td>\n",
       "      <td>1.0</td>\n",
       "      <td>0.0</td>\n",
       "      <td>2.0</td>\n",
       "    </tr>\n",
       "  </tbody>\n",
       "</table>\n",
       "</div>"
      ],
      "text/plain": [
       "    user_id                game_title  purchased  hours_played  implicit_pref\n",
       "0  76892907  Gratuitous Space Battles        1.0           0.0            2.0\n",
       "1  76892907    Guilty Gear X2 #Reload        1.0           0.0            2.0\n",
       "2  76892907   Kane & Lynch 2 Dog Days        1.0           0.0            2.0"
      ]
     },
     "metadata": {},
     "output_type": "display_data"
    },
    {
     "data": {
      "text/html": [
       "<div>\n",
       "<style scoped>\n",
       "    .dataframe tbody tr th:only-of-type {\n",
       "        vertical-align: middle;\n",
       "    }\n",
       "\n",
       "    .dataframe tbody tr th {\n",
       "        vertical-align: top;\n",
       "    }\n",
       "\n",
       "    .dataframe thead th {\n",
       "        text-align: right;\n",
       "    }\n",
       "</style>\n",
       "<table border=\"1\" class=\"dataframe\">\n",
       "  <thead>\n",
       "    <tr style=\"text-align: right;\">\n",
       "      <th></th>\n",
       "      <th>user_id</th>\n",
       "      <th>userId</th>\n",
       "    </tr>\n",
       "  </thead>\n",
       "  <tbody>\n",
       "    <tr>\n",
       "      <th>0</th>\n",
       "      <td>100012061</td>\n",
       "      <td>0</td>\n",
       "    </tr>\n",
       "    <tr>\n",
       "      <th>1</th>\n",
       "      <td>100053304</td>\n",
       "      <td>1</td>\n",
       "    </tr>\n",
       "    <tr>\n",
       "      <th>2</th>\n",
       "      <td>100057229</td>\n",
       "      <td>2</td>\n",
       "    </tr>\n",
       "  </tbody>\n",
       "</table>\n",
       "</div>"
      ],
      "text/plain": [
       "     user_id  userId\n",
       "0  100012061       0\n",
       "1  100053304       1\n",
       "2  100057229       2"
      ]
     },
     "metadata": {},
     "output_type": "display_data"
    },
    {
     "data": {
      "text/html": [
       "<div>\n",
       "<style scoped>\n",
       "    .dataframe tbody tr th:only-of-type {\n",
       "        vertical-align: middle;\n",
       "    }\n",
       "\n",
       "    .dataframe tbody tr th {\n",
       "        vertical-align: top;\n",
       "    }\n",
       "\n",
       "    .dataframe thead th {\n",
       "        text-align: right;\n",
       "    }\n",
       "</style>\n",
       "<table border=\"1\" class=\"dataframe\">\n",
       "  <thead>\n",
       "    <tr style=\"text-align: right;\">\n",
       "      <th></th>\n",
       "      <th>game_title</th>\n",
       "      <th>itemId</th>\n",
       "    </tr>\n",
       "  </thead>\n",
       "  <tbody>\n",
       "    <tr>\n",
       "      <th>0</th>\n",
       "      <td>007 Legends</td>\n",
       "      <td>0</td>\n",
       "    </tr>\n",
       "    <tr>\n",
       "      <th>1</th>\n",
       "      <td>0RBITALIS</td>\n",
       "      <td>1</td>\n",
       "    </tr>\n",
       "    <tr>\n",
       "      <th>2</th>\n",
       "      <td>1... 2... 3... KICK IT! (Drop That Beat Like a...</td>\n",
       "      <td>2</td>\n",
       "    </tr>\n",
       "  </tbody>\n",
       "</table>\n",
       "</div>"
      ],
      "text/plain": [
       "                                          game_title  itemId\n",
       "0                                        007 Legends       0\n",
       "1                                          0RBITALIS       1\n",
       "2  1... 2... 3... KICK IT! (Drop That Beat Like a...       2"
      ]
     },
     "metadata": {},
     "output_type": "display_data"
    }
   ],
   "source": [
    "# preview of the dataset\n",
    "display(gold_test.head(3))\n",
    "display(user_ids_test.head(3))\n",
    "display(item_ids_test.head(3))"
   ]
  },
  {
   "cell_type": "markdown",
   "id": "ad6d5012",
   "metadata": {},
   "source": [
    "## Modeling setup (ALS Recommendation)\n",
    "\n",
    "### Loading the cleaned dataset"
   ]
  },
  {
   "cell_type": "code",
   "execution_count": 24,
   "id": "816d5f7e",
   "metadata": {},
   "outputs": [],
   "source": [
    "gold = pd.read_csv(\"artifacts/gold_user_game.csv\")\n",
    "user_ids = pd.read_csv(\"artifacts/user_ids.csv\")\n",
    "item_ids = pd.read_csv(\"artifacts/item_ids.csv\")"
   ]
  },
  {
   "cell_type": "code",
   "execution_count": 25,
   "id": "55603975",
   "metadata": {},
   "outputs": [],
   "source": [
    "#renaming for modeling: implicit_pref -> rating\n",
    "gold = gold.rename(columns={\"implicit_pref\": \"rating\"})"
   ]
  },
  {
   "cell_type": "code",
   "execution_count": 26,
   "id": "3948ef77",
   "metadata": {},
   "outputs": [
    {
     "name": "stdout",
     "output_type": "stream",
     "text": [
      "(128801, 5) (12393, 2) (5153, 2)\n"
     ]
    },
    {
     "data": {
      "text/html": [
       "<div>\n",
       "<style scoped>\n",
       "    .dataframe tbody tr th:only-of-type {\n",
       "        vertical-align: middle;\n",
       "    }\n",
       "\n",
       "    .dataframe tbody tr th {\n",
       "        vertical-align: top;\n",
       "    }\n",
       "\n",
       "    .dataframe thead th {\n",
       "        text-align: right;\n",
       "    }\n",
       "</style>\n",
       "<table border=\"1\" class=\"dataframe\">\n",
       "  <thead>\n",
       "    <tr style=\"text-align: right;\">\n",
       "      <th></th>\n",
       "      <th>user_id</th>\n",
       "      <th>game_title</th>\n",
       "      <th>purchased</th>\n",
       "      <th>hours_played</th>\n",
       "      <th>rating</th>\n",
       "    </tr>\n",
       "  </thead>\n",
       "  <tbody>\n",
       "    <tr>\n",
       "      <th>0</th>\n",
       "      <td>76892907</td>\n",
       "      <td>Gratuitous Space Battles</td>\n",
       "      <td>1.0</td>\n",
       "      <td>0.0</td>\n",
       "      <td>2.0</td>\n",
       "    </tr>\n",
       "    <tr>\n",
       "      <th>1</th>\n",
       "      <td>76892907</td>\n",
       "      <td>Guilty Gear X2 #Reload</td>\n",
       "      <td>1.0</td>\n",
       "      <td>0.0</td>\n",
       "      <td>2.0</td>\n",
       "    </tr>\n",
       "    <tr>\n",
       "      <th>2</th>\n",
       "      <td>76892907</td>\n",
       "      <td>Kane &amp; Lynch 2 Dog Days</td>\n",
       "      <td>1.0</td>\n",
       "      <td>0.0</td>\n",
       "      <td>2.0</td>\n",
       "    </tr>\n",
       "  </tbody>\n",
       "</table>\n",
       "</div>"
      ],
      "text/plain": [
       "    user_id                game_title  purchased  hours_played  rating\n",
       "0  76892907  Gratuitous Space Battles        1.0           0.0     2.0\n",
       "1  76892907    Guilty Gear X2 #Reload        1.0           0.0     2.0\n",
       "2  76892907   Kane & Lynch 2 Dog Days        1.0           0.0     2.0"
      ]
     },
     "metadata": {},
     "output_type": "display_data"
    },
    {
     "data": {
      "text/html": [
       "<div>\n",
       "<style scoped>\n",
       "    .dataframe tbody tr th:only-of-type {\n",
       "        vertical-align: middle;\n",
       "    }\n",
       "\n",
       "    .dataframe tbody tr th {\n",
       "        vertical-align: top;\n",
       "    }\n",
       "\n",
       "    .dataframe thead th {\n",
       "        text-align: right;\n",
       "    }\n",
       "</style>\n",
       "<table border=\"1\" class=\"dataframe\">\n",
       "  <thead>\n",
       "    <tr style=\"text-align: right;\">\n",
       "      <th></th>\n",
       "      <th>user_id</th>\n",
       "      <th>userId</th>\n",
       "    </tr>\n",
       "  </thead>\n",
       "  <tbody>\n",
       "    <tr>\n",
       "      <th>0</th>\n",
       "      <td>100012061</td>\n",
       "      <td>0</td>\n",
       "    </tr>\n",
       "    <tr>\n",
       "      <th>1</th>\n",
       "      <td>100053304</td>\n",
       "      <td>1</td>\n",
       "    </tr>\n",
       "    <tr>\n",
       "      <th>2</th>\n",
       "      <td>100057229</td>\n",
       "      <td>2</td>\n",
       "    </tr>\n",
       "  </tbody>\n",
       "</table>\n",
       "</div>"
      ],
      "text/plain": [
       "     user_id  userId\n",
       "0  100012061       0\n",
       "1  100053304       1\n",
       "2  100057229       2"
      ]
     },
     "metadata": {},
     "output_type": "display_data"
    },
    {
     "data": {
      "text/html": [
       "<div>\n",
       "<style scoped>\n",
       "    .dataframe tbody tr th:only-of-type {\n",
       "        vertical-align: middle;\n",
       "    }\n",
       "\n",
       "    .dataframe tbody tr th {\n",
       "        vertical-align: top;\n",
       "    }\n",
       "\n",
       "    .dataframe thead th {\n",
       "        text-align: right;\n",
       "    }\n",
       "</style>\n",
       "<table border=\"1\" class=\"dataframe\">\n",
       "  <thead>\n",
       "    <tr style=\"text-align: right;\">\n",
       "      <th></th>\n",
       "      <th>game_title</th>\n",
       "      <th>itemId</th>\n",
       "    </tr>\n",
       "  </thead>\n",
       "  <tbody>\n",
       "    <tr>\n",
       "      <th>0</th>\n",
       "      <td>007 Legends</td>\n",
       "      <td>0</td>\n",
       "    </tr>\n",
       "    <tr>\n",
       "      <th>1</th>\n",
       "      <td>0RBITALIS</td>\n",
       "      <td>1</td>\n",
       "    </tr>\n",
       "    <tr>\n",
       "      <th>2</th>\n",
       "      <td>1... 2... 3... KICK IT! (Drop That Beat Like a...</td>\n",
       "      <td>2</td>\n",
       "    </tr>\n",
       "  </tbody>\n",
       "</table>\n",
       "</div>"
      ],
      "text/plain": [
       "                                          game_title  itemId\n",
       "0                                        007 Legends       0\n",
       "1                                          0RBITALIS       1\n",
       "2  1... 2... 3... KICK IT! (Drop That Beat Like a...       2"
      ]
     },
     "metadata": {},
     "output_type": "display_data"
    }
   ],
   "source": [
    "print(gold.shape, user_ids.shape, item_ids.shape)\n",
    "display(gold.head(3))\n",
    "display(user_ids.head(3))\n",
    "display(item_ids.head(3))"
   ]
  },
  {
   "cell_type": "markdown",
   "id": "6e333267",
   "metadata": {},
   "source": [
    "### Building the ratings table (userId, itemId, rating)\n",
    "\n",
    "this gives ALS exactly what it expects: numeric user IDs, item IDs, and a single rating signal"
   ]
  },
  {
   "cell_type": "code",
   "execution_count": 27,
   "id": "c350d306",
   "metadata": {},
   "outputs": [],
   "source": [
    "ratings = (\n",
    "    gold.merge(user_ids, on=\"user_id\", how=\"left\")\n",
    "        .merge(item_ids, on=\"game_title\", how=\"left\")\n",
    "        [[\"userId\", \"itemId\", \"rating\"]]\n",
    ")\n",
    "### This joins all three tables together — linking user and game text data to numeric IDs.\n",
    "\n",
    "ratings = ratings.dropna(subset=[\"userId\", \"itemId\", \"rating\"]).copy()\n",
    "ratings[\"userId\"] = ratings[\"userId\"].astype(np.int32)\n",
    "ratings[\"itemId\"] = ratings[\"itemId\"].astype(np.int32)\n",
    "ratings[\"rating\"] = ratings[\"rating\"].astype(np.float32)"
   ]
  },
  {
   "cell_type": "code",
   "execution_count": 28,
   "id": "cda47215",
   "metadata": {},
   "outputs": [
    {
     "name": "stdout",
     "output_type": "stream",
     "text": [
      "ratings shape: (128801, 3)\n",
      "userId range: 0 → 12392\n",
      "itemId range: 0 → 5152\n"
     ]
    },
    {
     "data": {
      "text/html": [
       "<div>\n",
       "<style scoped>\n",
       "    .dataframe tbody tr th:only-of-type {\n",
       "        vertical-align: middle;\n",
       "    }\n",
       "\n",
       "    .dataframe tbody tr th {\n",
       "        vertical-align: top;\n",
       "    }\n",
       "\n",
       "    .dataframe thead th {\n",
       "        text-align: right;\n",
       "    }\n",
       "</style>\n",
       "<table border=\"1\" class=\"dataframe\">\n",
       "  <thead>\n",
       "    <tr style=\"text-align: right;\">\n",
       "      <th></th>\n",
       "      <th>userId</th>\n",
       "      <th>itemId</th>\n",
       "      <th>rating</th>\n",
       "    </tr>\n",
       "  </thead>\n",
       "  <tbody>\n",
       "    <tr>\n",
       "      <th>0</th>\n",
       "      <td>11363</td>\n",
       "      <td>1982</td>\n",
       "      <td>2.0</td>\n",
       "    </tr>\n",
       "    <tr>\n",
       "      <th>1</th>\n",
       "      <td>11363</td>\n",
       "      <td>2024</td>\n",
       "      <td>2.0</td>\n",
       "    </tr>\n",
       "    <tr>\n",
       "      <th>2</th>\n",
       "      <td>11363</td>\n",
       "      <td>2352</td>\n",
       "      <td>2.0</td>\n",
       "    </tr>\n",
       "    <tr>\n",
       "      <th>3</th>\n",
       "      <td>11363</td>\n",
       "      <td>2726</td>\n",
       "      <td>2.0</td>\n",
       "    </tr>\n",
       "    <tr>\n",
       "      <th>4</th>\n",
       "      <td>11363</td>\n",
       "      <td>3679</td>\n",
       "      <td>2.0</td>\n",
       "    </tr>\n",
       "  </tbody>\n",
       "</table>\n",
       "</div>"
      ],
      "text/plain": [
       "   userId  itemId  rating\n",
       "0   11363    1982     2.0\n",
       "1   11363    2024     2.0\n",
       "2   11363    2352     2.0\n",
       "3   11363    2726     2.0\n",
       "4   11363    3679     2.0"
      ]
     },
     "metadata": {},
     "output_type": "display_data"
    }
   ],
   "source": [
    "print(\"ratings shape:\", ratings.shape)\n",
    "print(\"userId range:\", int(ratings.userId.min()), \"→\", int(ratings.userId.max()))\n",
    "print(\"itemId range:\", int(ratings.itemId.min()), \"→\", int(ratings.itemId.max()))\n",
    "display(ratings.head(5))"
   ]
  },
  {
   "cell_type": "code",
   "execution_count": 29,
   "id": "91ebb89c",
   "metadata": {},
   "outputs": [
    {
     "data": {
      "text/plain": [
       "(12393, 5153)"
      ]
     },
     "execution_count": 29,
     "metadata": {},
     "output_type": "execute_result"
    }
   ],
   "source": [
    "# saving handy counts for next step\n",
    "n_users = int(ratings[\"userId\"].max()) + 1\n",
    "n_items = int(ratings[\"itemId\"].max()) + 1\n",
    "n_users, n_items"
   ]
  },
  {
   "cell_type": "markdown",
   "id": "e03a95d1",
   "metadata": {},
   "source": [
    "These two lines above simply calculates the total number of unique users and games so we can size our user–item matrix correctly.\n",
    "\n",
    "## Building the sparse user–item matrix\n",
    "\n",
    "ALS needs a big sparse matrix with rows = users, columns = items, and each non-zero entry = rating."
   ]
  },
  {
   "cell_type": "code",
   "execution_count": 30,
   "id": "07eebd09",
   "metadata": {},
   "outputs": [],
   "source": [
    "from scipy.sparse import csr_matrix\n",
    "\n",
    "# explicit shape (max index + 1)\n",
    "n_users = int(ratings[\"userId\"].max()) + 1\n",
    "n_items = int(ratings[\"itemId\"].max()) + 1"
   ]
  },
  {
   "cell_type": "code",
   "execution_count": 31,
   "id": "0bc200a4",
   "metadata": {},
   "outputs": [
    {
     "name": "stdout",
     "output_type": "stream",
     "text": [
      "matrix shape: (12393, 5153)\n",
      "non-zeros nnz: 128801\n"
     ]
    }
   ],
   "source": [
    "user_item_matrix = csr_matrix(\n",
    "    (ratings[\"rating\"].values,\n",
    "     (ratings[\"userId\"].values, ratings[\"itemId\"].values)),\n",
    "    shape=(n_users, n_items),\n",
    "    dtype=np.float32\n",
    ")\n",
    "\n",
    "print(\"matrix shape:\", user_item_matrix.shape)\n",
    "print(\"non-zeros nnz:\", user_item_matrix.nnz)"
   ]
  },
  {
   "cell_type": "markdown",
   "id": "978dbc29",
   "metadata": {},
   "source": [
    "What we did:\n",
    "\t•\tPacks the ratings table into an efficient matrix that stores only the non-zero interactions.\n",
    "\t•\tnnz should equal the number of rows in ratings (≈ 128,801).\n",
    "\n",
    "## Training the ALS model\n",
    "\n",
    "It trains a collaborative-filtering model from implicit feedback (our rating)"
   ]
  },
  {
   "cell_type": "code",
   "execution_count": 32,
   "id": "f52de0cc",
   "metadata": {},
   "outputs": [
    {
     "data": {
      "application/vnd.jupyter.widget-view+json": {
       "model_id": "fa1233e731ff45879bd5e9a34a7dbd03",
       "version_major": 2,
       "version_minor": 0
      },
      "text/plain": [
       "  0%|          | 0/15 [00:00<?, ?it/s]"
      ]
     },
     "metadata": {},
     "output_type": "display_data"
    },
    {
     "name": "stdout",
     "output_type": "stream",
     "text": [
      "✅ ALS training complete!\n"
     ]
    }
   ],
   "source": [
    "# keep threads tame on macOS (optional but helps stability)\n",
    "import os\n",
    "for k in [\"MKL_NUM_THREADS\", \"OPENBLAS_NUM_THREADS\", \"OMP_NUM_THREADS\"]:\n",
    "    os.environ.setdefault(k, \"1\")\n",
    "\n",
    "from implicit.cpu.als import AlternatingLeastSquares\n",
    "\n",
    "als = AlternatingLeastSquares(\n",
    "    factors=32,        # latent features\n",
    "    regularization=0.1,\n",
    "    iterations=15\n",
    ")\n",
    "\n",
    "# implicit expects (items x users), so transpose the matrix\n",
    "als.fit(user_item_matrix.T.tocsr())\n",
    "print(\"✅ ALS training complete!\")"
   ]
  },
  {
   "cell_type": "markdown",
   "id": "3d0bfcce",
   "metadata": {},
   "source": [
    "## Generating the top-K recommendations and mapping itemId → game title"
   ]
  },
  {
   "cell_type": "code",
   "execution_count": 37,
   "id": "f8700fcb",
   "metadata": {},
   "outputs": [
    {
     "name": "stdout",
     "output_type": "stream",
     "text": [
      "matrix: (12393, 5153)\n",
      "user_factors: (5153, 32)\n",
      "item_factors: (12393, 32)\n",
      "Using orientation: swapped\n"
     ]
    },
    {
     "data": {
      "text/html": [
       "<div>\n",
       "<style scoped>\n",
       "    .dataframe tbody tr th:only-of-type {\n",
       "        vertical-align: middle;\n",
       "    }\n",
       "\n",
       "    .dataframe tbody tr th {\n",
       "        vertical-align: top;\n",
       "    }\n",
       "\n",
       "    .dataframe thead th {\n",
       "        text-align: right;\n",
       "    }\n",
       "</style>\n",
       "<table border=\"1\" class=\"dataframe\">\n",
       "  <thead>\n",
       "    <tr style=\"text-align: right;\">\n",
       "      <th></th>\n",
       "      <th>game_title</th>\n",
       "      <th>score</th>\n",
       "    </tr>\n",
       "  </thead>\n",
       "  <tbody>\n",
       "    <tr>\n",
       "      <th>0</th>\n",
       "      <td>Dirty Bomb</td>\n",
       "      <td>1.825963</td>\n",
       "    </tr>\n",
       "    <tr>\n",
       "      <th>1</th>\n",
       "      <td>Dungeon Defenders II</td>\n",
       "      <td>1.424699</td>\n",
       "    </tr>\n",
       "    <tr>\n",
       "      <th>2</th>\n",
       "      <td>Path of Exile</td>\n",
       "      <td>1.288315</td>\n",
       "    </tr>\n",
       "    <tr>\n",
       "      <th>3</th>\n",
       "      <td>AdVenture Capitalist</td>\n",
       "      <td>1.255153</td>\n",
       "    </tr>\n",
       "    <tr>\n",
       "      <th>4</th>\n",
       "      <td>PAYDAY 2</td>\n",
       "      <td>1.242718</td>\n",
       "    </tr>\n",
       "    <tr>\n",
       "      <th>5</th>\n",
       "      <td>Race The Sun</td>\n",
       "      <td>1.208686</td>\n",
       "    </tr>\n",
       "    <tr>\n",
       "      <th>6</th>\n",
       "      <td>SMITE</td>\n",
       "      <td>1.134992</td>\n",
       "    </tr>\n",
       "    <tr>\n",
       "      <th>7</th>\n",
       "      <td>Call of Duty Modern Warfare 3 - Multiplayer</td>\n",
       "      <td>1.101755</td>\n",
       "    </tr>\n",
       "    <tr>\n",
       "      <th>8</th>\n",
       "      <td>Call of Duty Modern Warfare 3</td>\n",
       "      <td>1.090626</td>\n",
       "    </tr>\n",
       "    <tr>\n",
       "      <th>9</th>\n",
       "      <td>Stealth Inc 2</td>\n",
       "      <td>1.059336</td>\n",
       "    </tr>\n",
       "  </tbody>\n",
       "</table>\n",
       "</div>"
      ],
      "text/plain": [
       "                                    game_title     score\n",
       "0                                   Dirty Bomb  1.825963\n",
       "1                         Dungeon Defenders II  1.424699\n",
       "2                                Path of Exile  1.288315\n",
       "3                         AdVenture Capitalist  1.255153\n",
       "4                                     PAYDAY 2  1.242718\n",
       "5                                 Race The Sun  1.208686\n",
       "6                                        SMITE  1.134992\n",
       "7  Call of Duty Modern Warfare 3 - Multiplayer  1.101755\n",
       "8                Call of Duty Modern Warfare 3  1.090626\n",
       "9                                Stealth Inc 2  1.059336"
      ]
     },
     "execution_count": 37,
     "metadata": {},
     "output_type": "execute_result"
    }
   ],
   "source": [
    "import numpy as np\n",
    "import pandas as pd\n",
    "\n",
    "# Diagnostics\n",
    "print(\"matrix:\", user_item_matrix.shape)\n",
    "print(\"user_factors:\", als.user_factors.shape)\n",
    "print(\"item_factors:\", als.item_factors.shape)\n",
    "\n",
    "n_users = user_item_matrix.shape[0]\n",
    "n_items = user_item_matrix.shape[1]\n",
    "\n",
    "# Detect whether factors are swapped\n",
    "if als.user_factors.shape[0] == n_users and als.item_factors.shape[0] == n_items:\n",
    "    # Normal orientation: users ↔ user_factors, items ↔ item_factors\n",
    "    U = als.user_factors   # (n_users, f)\n",
    "    I = als.item_factors   # (n_items, f)\n",
    "    orientation = \"normal\"\n",
    "elif als.user_factors.shape[0] == n_items and als.item_factors.shape[0] == n_users:\n",
    "    # Swapped orientation\n",
    "    U = als.item_factors   # (n_users, f)\n",
    "    I = als.user_factors   # (n_items, f)\n",
    "    orientation = \"swapped\"\n",
    "else:\n",
    "    raise RuntimeError(\"Unexpected ALS factor shapes vs matrix.\")\n",
    "\n",
    "print(\"Using orientation:\", orientation)\n",
    "\n",
    "# Pick an active user (valid index in 0..n_users-1)\n",
    "u = int(ratings['userId'].value_counts().idxmax())\n",
    "\n",
    "# 1) get user & item vectors\n",
    "u_vec = U[u]                 # shape: (factors,)\n",
    "item_vecs = I                # shape: (n_items, factors)\n",
    "\n",
    "# 2) score every item by dot product\n",
    "scores = item_vecs @ u_vec   # (n_items,)\n",
    "\n",
    "# 3) mask items the user already interacted with\n",
    "seen = user_item_matrix[u].indices\n",
    "scores_masked = scores.copy()\n",
    "scores_masked[seen] = -np.inf\n",
    "\n",
    "# 4) take top-K items safely\n",
    "K = 10\n",
    "top_idx = np.argpartition(scores_masked, -K)[-K:]\n",
    "top_idx = top_idx[np.argsort(scores_masked[top_idx])[::-1]]\n",
    "\n",
    "# 5) map ids → titles\n",
    "rec_df = (pd.DataFrame({'itemId': top_idx, 'score': scores[top_idx]})\n",
    "          .merge(item_ids, on='itemId', how='left')\n",
    "          [['game_title','score']]\n",
    "          .reset_index(drop=True))\n",
    "\n",
    "rec_df"
   ]
  },
  {
   "cell_type": "markdown",
   "id": "7f083ddb",
   "metadata": {},
   "source": [
    "#### Why this works\n",
    "\t•\tWe inspect factor shapes to see if ALS stored users/items in the expected arrays.\n",
    "\t•\tThen we choose the right matrices (U for users, I for items) based on that detection.\n",
    "\t•\tWe score items by dot product, mask already-seen items, and return the top-K.\n",
    "\t•\tAll IDs are guaranteed in range because they come directly from I (the item factor matrix we selected).\n",
    "    \n",
    "#### What Went Wrong Before\n",
    "\t1.\tUser & Item dimensions were swapped earlier in Databricks:\n",
    "\t•\tALS expects the matrix as (items × users) internally.\n",
    "\t•\tWe mistakenly trained it as (users × items) before.\n",
    "\t•\tThat mismatch caused errors like IndexError: index 10828 out of bounds.\n",
    "\t2.\tWrong orientation of factors:\n",
    "\t•\tALS stores latent factors separately for users and items.\n",
    "\t•\tWhen our matrix shape was flipped, the model got confused about which factor belongs to which — causing “NoneType” and “index out of bounds” issues.\n",
    "\n",
    "\n",
    "#### What We Did Right This Time\n",
    "\t1.\tConfirmed correct matrix orientation:\n",
    "\t•\tWe explicitly transposed (user_item_matrix.T) before training ALS.\n",
    "    •\tLog confirmed: 5153 games (items); 12,393 users; 32 latent features per user/game.\n",
    "\t2.\tGenerated clean, valid recommendations:\n",
    "\t•\tEach game title now has a score showing how strongly the model recommends it.\n",
    "\t•\tHigher scores mean the game aligns well with the user’s preferences.\n",
    "    \n",
    "## To summarize:\n",
    "We fixed the mismatch between users and items in the matrix, aligned ALS with the correct orientation, and successfully trained a model that can now predict which games each user would like next."
   ]
  },
  {
   "cell_type": "markdown",
   "id": "f98a7b25",
   "metadata": {},
   "source": [
    "## Evaluation & Insights\n",
    "\n",
    "Here we’ll test how well our ALS recommender performs and interpret its results.\n",
    "\n",
    "### Evaluating the Model Quality (Reconstruction & Ranking Check)"
   ]
  },
  {
   "cell_type": "code",
   "execution_count": 39,
   "id": "cf887991",
   "metadata": {},
   "outputs": [
    {
     "name": "stdout",
     "output_type": "stream",
     "text": [
      "Using orientation: swapped\n",
      "Reconstruction RMSE: 2.1086\n"
     ]
    }
   ],
   "source": [
    "import numpy as np\n",
    "from sklearn.metrics import mean_squared_error\n",
    "\n",
    "# Shapes we expect from the matrix we trained on\n",
    "n_users, n_items = user_item_matrix.shape\n",
    "\n",
    "# Detect orientation and pick the right factor matrices\n",
    "if als.user_factors.shape[0] == n_users and als.item_factors.shape[0] == n_items:\n",
    "    U = als.user_factors           # (n_users, factors)\n",
    "    I = als.item_factors           # (n_items, factors)\n",
    "    which = \"normal\"\n",
    "elif als.user_factors.shape[0] == n_items and als.item_factors.shape[0] == n_users:\n",
    "    U = als.item_factors           # (n_users, factors)\n",
    "    I = als.user_factors           # (n_items, factors)\n",
    "    which = \"swapped\"\n",
    "else:\n",
    "    raise RuntimeError(\"Unexpected ALS factor shapes vs matrix.\")\n",
    "\n",
    "print(\"Using orientation:\", which)\n",
    "\n",
    "# Compute predicted scores for the known interactions in `ratings`\n",
    "u_idx = ratings['userId'].values\n",
    "i_idx = ratings['itemId'].values\n",
    "\n",
    "# elementwise dot product of user/item factors for each (u,i) pair\n",
    "pred_scores = np.sum(U[u_idx] * I[i_idx], axis=1)\n",
    "\n",
    "rmse = np.sqrt(mean_squared_error(ratings['rating'].values, pred_scores))\n",
    "print(f\"Reconstruction RMSE: {rmse:.4f}\")"
   ]
  },
  {
   "cell_type": "markdown",
   "id": "bf186109",
   "metadata": {},
   "source": [
    "What we did:\n",
    "\t•\tWe detect whether the model stored factors as (users, items) or (items, users).\n",
    "\t•\tThen we use the correct pair (U, I) for scoring, avoiding the out-of-bounds error.\n",
    "    \n",
    "### Creating a per-user holdout split & retrain on train\n",
    "\n",
    "We’ll hold out one interacted item per user for testing (only for users with ≥2 interactions), retrain ALS on the remaining interactions, and use the held-out items to judge Top-K quality."
   ]
  },
  {
   "cell_type": "code",
   "execution_count": 40,
   "id": "030144e7",
   "metadata": {},
   "outputs": [
    {
     "data": {
      "text/plain": [
       "(6693, [(1, 3130), (2, 3998), (3, 852)])"
      ]
     },
     "execution_count": 40,
     "metadata": {},
     "output_type": "execute_result"
    }
   ],
   "source": [
    "import numpy as np\n",
    "from scipy.sparse import csr_matrix\n",
    "\n",
    "rng = np.random.default_rng(42)\n",
    "\n",
    "# build per-user lists of items from current ratings\n",
    "by_user = ratings.groupby(\"userId\")[\"itemId\"].apply(list)\n",
    "\n",
    "# choose users with at least 2 interactions\n",
    "eligible_users = [u for u, items in by_user.items() if len(items) >= 2]\n",
    "\n",
    "# sample 1 held-out item per user\n",
    "test_item_for_user = {}\n",
    "for u in eligible_users:\n",
    "    items = by_user[u]\n",
    "    test_item_for_user[u] = int(rng.choice(items, size=1)[0])\n",
    "\n",
    "len(eligible_users), list(test_item_for_user.items())[:3]"
   ]
  },
  {
   "cell_type": "code",
   "execution_count": 41,
   "id": "ab6b29ff",
   "metadata": {},
   "outputs": [
    {
     "name": "stdout",
     "output_type": "stream",
     "text": [
      "Train matrix: (12393, 5153) | nnz: 122108 | held-out users: 6693\n"
     ]
    },
    {
     "data": {
      "application/vnd.jupyter.widget-view+json": {
       "model_id": "7e26c9d37b994caaaf66db370110e168",
       "version_major": 2,
       "version_minor": 0
      },
      "text/plain": [
       "  0%|          | 0/15 [00:00<?, ?it/s]"
      ]
     },
     "metadata": {},
     "output_type": "display_data"
    },
    {
     "name": "stdout",
     "output_type": "stream",
     "text": [
      "✅ ALS trained on TRAIN split\n"
     ]
    }
   ],
   "source": [
    "# build TRAIN interactions = all except the held-out item\n",
    "mask = ~ratings.apply(lambda r: test_item_for_user.get(int(r[\"userId\"])) == int(r[\"itemId\"]), axis=1)\n",
    "train_ratings = ratings[mask].copy()\n",
    "\n",
    "# make a train CSR matrix\n",
    "n_users = int(ratings[\"userId\"].max()) + 1\n",
    "n_items = int(ratings[\"itemId\"].max()) + 1\n",
    "M_train = csr_matrix(\n",
    "    (train_ratings[\"rating\"].values,\n",
    "     (train_ratings[\"userId\"].values, train_ratings[\"itemId\"].values)),\n",
    "    shape=(n_users, n_items),\n",
    "    dtype=np.float32\n",
    ")\n",
    "\n",
    "print(\"Train matrix:\", M_train.shape, \"| nnz:\", M_train.nnz, \"| held-out users:\", len(test_item_for_user))\n",
    "\n",
    "# retrain ALS on TRAIN only\n",
    "from implicit.cpu.als import AlternatingLeastSquares\n",
    "als_holdout = AlternatingLeastSquares(factors=32, regularization=0.1, iterations=15)\n",
    "als_holdout.fit(M_train.T.tocsr())\n",
    "print(\"✅ ALS trained on TRAIN split\")"
   ]
  },
  {
   "cell_type": "markdown",
   "id": "b49bce5f",
   "metadata": {},
   "source": [
    "#### What this does:\n",
    "\t•\tFor each active user, we hide one known item as the test target.\n",
    "\t•\tWe rebuild a train matrix without that item.\n",
    "\t•\tWe train a fresh ALS model (als_holdout) only on the train data.\n",
    "\n",
    "## Computing Precision@10 and Recall@10 using the held-out items\n",
    "\n",
    "Here we’ll score the holdout and compute simple Precision@10 / Recall@10"
   ]
  },
  {
   "cell_type": "code",
   "execution_count": 42,
   "id": "c59339d5",
   "metadata": {},
   "outputs": [
    {
     "name": "stdout",
     "output_type": "stream",
     "text": [
      "Using orientation for eval: swapped\n",
      "Users evaluated: 6693\n",
      "Hit-rate@10:     0.398\n",
      "Precision@10:    0.040\n",
      "Recall@10:       0.398\n"
     ]
    }
   ],
   "source": [
    "import numpy as np\n",
    "import pandas as pd\n",
    "\n",
    "# 1) Pick the correct factor matrices from the holdout model\n",
    "n_users, n_items = M_train.shape\n",
    "if als_holdout.user_factors.shape[0] == n_users and als_holdout.item_factors.shape[0] == n_items:\n",
    "    U = als_holdout.user_factors   # (n_users, f)\n",
    "    I = als_holdout.item_factors   # (n_items, f)\n",
    "    orient = \"normal\"\n",
    "elif als_holdout.user_factors.shape[0] == n_items and als_holdout.item_factors.shape[0] == n_users:\n",
    "    U = als_holdout.item_factors   # (n_users, f)\n",
    "    I = als_holdout.user_factors   # (n_items, f)\n",
    "    orient = \"swapped\"\n",
    "else:\n",
    "    raise RuntimeError(\"Unexpected ALS factor shapes vs train matrix.\")\n",
    "print(\"Using orientation for eval:\", orient)\n",
    "\n",
    "# 2) Evaluate Top-K hit for the single held-out item per user\n",
    "K = 10\n",
    "users_eval = list(test_item_for_user.keys())\n",
    "\n",
    "hits = 0\n",
    "precisions = []\n",
    "recalls = []\n",
    "\n",
    "for u in users_eval:\n",
    "    u_vec = U[u]            # (factors,)\n",
    "    scores = I @ u_vec      # (n_items,)\n",
    "\n",
    "    # Exclude items the user saw in TRAIN (allow recommending the held-out item)\n",
    "    seen_train = M_train[u].indices\n",
    "    scores[seen_train] = -np.inf\n",
    "\n",
    "    # Top-K\n",
    "    top_idx = np.argpartition(scores, -K)[-K:]\n",
    "    top_idx = top_idx[np.argsort(scores[top_idx])[::-1]]\n",
    "\n",
    "    hit = int(test_item_for_user[u] in top_idx)\n",
    "    hits += hit\n",
    "    precisions.append(hit / K)  # one relevant item → precision is 1/K if hit else 0\n",
    "    recalls.append(hit)         # one relevant item → recall is 1 if hit else 0\n",
    "\n",
    "precision_at_10 = float(np.mean(precisions))\n",
    "recall_at_10    = float(np.mean(recalls))\n",
    "hit_rate        = hits / len(users_eval)\n",
    "\n",
    "print(f\"Users evaluated: {len(users_eval)}\")\n",
    "print(f\"Hit-rate@10:     {hit_rate:.3f}\")\n",
    "print(f\"Precision@10:    {precision_at_10:.3f}\")\n",
    "print(f\"Recall@10:       {recall_at_10:.3f}\")"
   ]
  },
  {
   "cell_type": "markdown",
   "id": "77b5507b",
   "metadata": {},
   "source": [
    "#### What this does:\n",
    "\t•\tFor each user with a held-out item, we score all games by dot product, hide the training items, and take Top-10.\n",
    "\t•\tIf the held-out game appears in Top-10 → that’s a hit.\n",
    "\t•\tWith one held-out item per user:\n",
    "\t•\tPrecision@10 = hit / 10 (either 0 or 0.1)\n",
    "\t•\tRecall@10    = hit (either 0 or 1)\n",
    "\t•\tHit-rate@10  = fraction of users with a hit (same as Recall@10)\n",
    "\n",
    "#### What is hit -> the model successfully guessed one of the user’s real liked games in the top-K list.\n",
    "When we test the model, we hide one game that a user actually played (the held-out game).\n",
    "\n",
    "Then we ask the model: “What are this user’s top-10 recommended games?”\n",
    "\t•\tIf the hidden game appears anywhere in those top-10 → ✅ that’s a hit.\n",
    "\t•\tIf it does not appear in the top-10 → ❌ that’s a miss.\n",
    "\n",
    "So:\n",
    "\t•\tHit-rate@10 = 0.398 means that for 39.8 % of users, the model correctly included their hidden (true) game in its top-10 list.\n",
    "\t•\tEach user can contribute at most one “hit,” so it’s just the fraction of users for whom the model got it right.\n",
    "\n",
    "### What the metrics mean\n",
    "\t•\tUsers evaluated: 6,693 users with ≥2 interactions (we held 1 out for each).\n",
    "    \n",
    "\t•\tHit-rate@10 = Recall@10 = 0.398 → For ~40% of users, the model put the held-out game in their top-10.That’s a good starting point for an implicit MF model on raw logs.\n",
    "    \n",
    "\t•\tPrecision@10 = 0.040 → With exactly 1 relevant item per user, the maximum possible precision@10 is 0.1 (if every user’s hit is in top-10, it’s 1/10). So 0.040 simply reflects that 39.8% of users hit (≈ 0.398/10)."
   ]
  },
  {
   "cell_type": "markdown",
   "id": "30d2d1c5",
   "metadata": {},
   "source": [
    "### Quick notes\n",
    "\t•\tWe used a per-user holdout (one item) and manual top-K scoring with orientation-safe factors.\n",
    "\t•\tScores are consistent with typical implicit ALS on medium data without tuning.\n",
    "\t•\tThe metric pair (Recall@10 ≈ 0.40, Precision@10 ≈ 0.04) is coherent."
   ]
  },
  {
   "cell_type": "markdown",
   "id": "4443e5f2",
   "metadata": {},
   "source": [
    "### Why Improvement Is Needed\n",
    "\t•\tThe current ALS model works, but it’s a first version trained with default settings.\n",
    "\t•\tIts accuracy (≈ 40 % Hit-Rate@10) shows the model is learning patterns, but there’s still room to recommend more relevant games.\n",
    "\t\n",
    "### What Needs Improvement\n",
    "\t1.\tModel Performance\n",
    "\t•\tTune ALS hyperparameters (factors, regularization, iterations) for better ranking quality.\n",
    "\t•\tTry alternate weighting for implicit_pref to balance purchase vs playtime.\n",
    "    \n",
    "\t2.\tCold-Start Problem\n",
    "\t•\tHandle new users or new games that have no historical data (e.g., fallback to popular items).\n",
    "    \n",
    "\t3.\tBaseline Comparison\n",
    "\t•\tBuild a simple popularity-based recommender to measure how much better ALS performs.\n",
    "    \n",
    "\t4.\tVisualization & Explainability\n",
    "\t•\tAdd charts to show top games, rating distributions, and how ALS recommendations differ from popularity.    "
   ]
  },
  {
   "cell_type": "markdown",
   "id": "148fae66",
   "metadata": {},
   "source": [
    "### Hyperparameter tuning: test different ALS settings"
   ]
  },
  {
   "cell_type": "code",
   "execution_count": 43,
   "id": "ecaf82e2",
   "metadata": {},
   "outputs": [
    {
     "name": "stdout",
     "output_type": "stream",
     "text": [
      "Eligible users: 6693\n",
      "TRAIN matrix: (12393, 5153) | nnz: 122108 | held-out users: 6693\n"
     ]
    }
   ],
   "source": [
    "import numpy as np\n",
    "from scipy.sparse import csr_matrix\n",
    "\n",
    "# --- 1) per-user held-out item (only users with ≥2 interactions) ---\n",
    "rng = np.random.default_rng(42)\n",
    "\n",
    "by_user = ratings.groupby(\"userId\")[\"itemId\"].apply(list)\n",
    "eligible_users = [u for u, items in by_user.items() if len(items) >= 2]\n",
    "\n",
    "test_item_for_user = {u: int(rng.choice(by_user[u], size=1)[0]) for u in eligible_users}\n",
    "\n",
    "print(\"Eligible users:\", len(eligible_users))\n",
    "list(test_item_for_user.items())[:5]  # peek\n",
    "\n",
    "# --- 2) TRAIN interactions = all except the held-out item ---\n",
    "is_train = ~ratings.apply(lambda r: test_item_for_user.get(int(r[\"userId\"])) == int(r[\"itemId\"]), axis=1)\n",
    "train_ratings = ratings[is_train].copy()\n",
    "\n",
    "# --- 3) TRAIN matrix (users x items) ---\n",
    "n_users = int(ratings[\"userId\"].max()) + 1\n",
    "n_items = int(ratings[\"itemId\"].max()) + 1\n",
    "\n",
    "M_train = csr_matrix(\n",
    "    (train_ratings[\"rating\"].values,\n",
    "     (train_ratings[\"userId\"].values, train_ratings[\"itemId\"].values)),\n",
    "    shape=(n_users, n_items),\n",
    "    dtype=np.float32\n",
    ")\n",
    "\n",
    "print(\"TRAIN matrix:\", M_train.shape, \"| nnz:\", M_train.nnz, \"| held-out users:\", len(test_item_for_user))"
   ]
  },
  {
   "cell_type": "code",
   "execution_count": 44,
   "id": "7421363e",
   "metadata": {},
   "outputs": [
    {
     "data": {
      "application/vnd.jupyter.widget-view+json": {
       "model_id": "b7d1b55bbae1426085b3d67116a72994",
       "version_major": 2,
       "version_minor": 0
      },
      "text/plain": [
       "  0%|          | 0/10 [00:00<?, ?it/s]"
      ]
     },
     "metadata": {},
     "output_type": "display_data"
    },
    {
     "name": "stdout",
     "output_type": "stream",
     "text": [
      "f=16, reg=0.05, iters=10 → recall@10=0.392\n"
     ]
    },
    {
     "data": {
      "application/vnd.jupyter.widget-view+json": {
       "model_id": "5c48bab388554235afc4e5601db1c14a",
       "version_major": 2,
       "version_minor": 0
      },
      "text/plain": [
       "  0%|          | 0/15 [00:00<?, ?it/s]"
      ]
     },
     "metadata": {},
     "output_type": "display_data"
    },
    {
     "name": "stdout",
     "output_type": "stream",
     "text": [
      "f=32, reg=0.1, iters=15 → recall@10=0.400\n"
     ]
    },
    {
     "data": {
      "application/vnd.jupyter.widget-view+json": {
       "model_id": "7a66a0fa9774499796b3eb9c97de4407",
       "version_major": 2,
       "version_minor": 0
      },
      "text/plain": [
       "  0%|          | 0/15 [00:00<?, ?it/s]"
      ]
     },
     "metadata": {},
     "output_type": "display_data"
    },
    {
     "name": "stdout",
     "output_type": "stream",
     "text": [
      "f=64, reg=0.1, iters=15 → recall@10=0.392\n"
     ]
    },
    {
     "data": {
      "application/vnd.jupyter.widget-view+json": {
       "model_id": "de9c3ced200b4fd6ae35da09814fbc4c",
       "version_major": 2,
       "version_minor": 0
      },
      "text/plain": [
       "  0%|          | 0/20 [00:00<?, ?it/s]"
      ]
     },
     "metadata": {},
     "output_type": "display_data"
    },
    {
     "name": "stdout",
     "output_type": "stream",
     "text": [
      "f=64, reg=0.05, iters=20 → recall@10=0.395\n"
     ]
    },
    {
     "data": {
      "text/html": [
       "<div>\n",
       "<style scoped>\n",
       "    .dataframe tbody tr th:only-of-type {\n",
       "        vertical-align: middle;\n",
       "    }\n",
       "\n",
       "    .dataframe tbody tr th {\n",
       "        vertical-align: top;\n",
       "    }\n",
       "\n",
       "    .dataframe thead th {\n",
       "        text-align: right;\n",
       "    }\n",
       "</style>\n",
       "<table border=\"1\" class=\"dataframe\">\n",
       "  <thead>\n",
       "    <tr style=\"text-align: right;\">\n",
       "      <th></th>\n",
       "      <th>factors</th>\n",
       "      <th>reg</th>\n",
       "      <th>iters</th>\n",
       "      <th>recall@10</th>\n",
       "    </tr>\n",
       "  </thead>\n",
       "  <tbody>\n",
       "    <tr>\n",
       "      <th>0</th>\n",
       "      <td>16</td>\n",
       "      <td>0.05</td>\n",
       "      <td>10</td>\n",
       "      <td>0.392350</td>\n",
       "    </tr>\n",
       "    <tr>\n",
       "      <th>1</th>\n",
       "      <td>32</td>\n",
       "      <td>0.10</td>\n",
       "      <td>15</td>\n",
       "      <td>0.399821</td>\n",
       "    </tr>\n",
       "    <tr>\n",
       "      <th>2</th>\n",
       "      <td>64</td>\n",
       "      <td>0.10</td>\n",
       "      <td>15</td>\n",
       "      <td>0.391603</td>\n",
       "    </tr>\n",
       "    <tr>\n",
       "      <th>3</th>\n",
       "      <td>64</td>\n",
       "      <td>0.05</td>\n",
       "      <td>20</td>\n",
       "      <td>0.395488</td>\n",
       "    </tr>\n",
       "  </tbody>\n",
       "</table>\n",
       "</div>"
      ],
      "text/plain": [
       "   factors   reg  iters  recall@10\n",
       "0       16  0.05     10   0.392350\n",
       "1       32  0.10     15   0.399821\n",
       "2       64  0.10     15   0.391603\n",
       "3       64  0.05     20   0.395488"
      ]
     },
     "execution_count": 44,
     "metadata": {},
     "output_type": "execute_result"
    }
   ],
   "source": [
    "from implicit.cpu.als import AlternatingLeastSquares\n",
    "import numpy as np\n",
    "\n",
    "def eval_als(factors, reg, iters):\n",
    "    model = AlternatingLeastSquares(factors=factors, regularization=reg, iterations=iters)\n",
    "    model.fit(M_train.T.tocsr())\n",
    "\n",
    "    # orientation fix\n",
    "    if model.user_factors.shape[0] == n_users:\n",
    "        U, I = model.user_factors, model.item_factors\n",
    "    else:\n",
    "        U, I = model.item_factors, model.user_factors\n",
    "\n",
    "    K = 10\n",
    "    hits = 0\n",
    "    for u, i_true in test_item_for_user.items():\n",
    "        u_vec = U[u]; scores = I @ u_vec\n",
    "        scores[M_train[u].indices] = -np.inf\n",
    "        top_idx = np.argpartition(scores, -K)[-K:]\n",
    "        if i_true in top_idx: hits += 1\n",
    "    recall = hits / len(test_item_for_user)\n",
    "    return recall\n",
    "\n",
    "grid = [\n",
    "    (16, 0.05, 10),\n",
    "    (32, 0.1, 15),\n",
    "    (64, 0.1, 15),\n",
    "    (64, 0.05, 20)\n",
    "]\n",
    "\n",
    "results = []\n",
    "for f, r, it in grid:\n",
    "    recall = eval_als(f, r, it)\n",
    "    results.append({\"factors\": f, \"reg\": r, \"iters\": it, \"recall@10\": recall})\n",
    "    print(f\"f={f}, reg={r}, iters={it} → recall@10={recall:.3f}\")\n",
    "\n",
    "import pandas as pd\n",
    "pd.DataFrame(results)"
   ]
  },
  {
   "cell_type": "markdown",
   "id": "a9fbba0f",
   "metadata": {},
   "source": [
    "#### What this does:\n",
    "\t•\tWe tested 4 different ALS settings (different number of factors, regularization, and iterations).\n",
    "\t•\tThe goal was to find the best balance between model complexity (factors) and overfitting control (regularization)\n",
    "    \n",
    "#### understanding the table:\n",
    "factors -> how many latent patterns (like “themes” of games) ALS learns. More factors = more nuance, but slower & risk of overfitting\n",
    "\n",
    "reg -> regularization penalty to avoid overfitting (higher = more smoothing)\n",
    "\n",
    "iters -> number of training passes to converge (too low = underfit)\n",
    "\n",
    "#### Interpreting the table  \n",
    "\t•\tThe best recall@10 = 0.3998 came from (factors=32, reg=0.1, iters=15).\n",
    "\t•\tIncreasing factors beyond 32 didn’t improve recall — it actually dropped slightly.\n",
    "\t•\tThis means moderate complexity (32 latent factors) gives the best generalization for this dataset.\n",
    "    \n",
    "#### Finalizing the ALS model with these:\n",
    "factors = 32; regularization = 0.1; iterations = 15\n",
    "\n",
    "### Retrain final model + generate polished recommendations"
   ]
  },
  {
   "cell_type": "code",
   "execution_count": 45,
   "id": "14f52895",
   "metadata": {},
   "outputs": [
    {
     "data": {
      "application/vnd.jupyter.widget-view+json": {
       "model_id": "c35d02aa908e40ae8f26eb481f947246",
       "version_major": 2,
       "version_minor": 0
      },
      "text/plain": [
       "  0%|          | 0/15 [00:00<?, ?it/s]"
      ]
     },
     "metadata": {},
     "output_type": "display_data"
    },
    {
     "name": "stdout",
     "output_type": "stream",
     "text": [
      "✅ Trained final ALS on ALL data\n",
      "Orientation: swapped\n"
     ]
    },
    {
     "data": {
      "text/html": [
       "<div>\n",
       "<style scoped>\n",
       "    .dataframe tbody tr th:only-of-type {\n",
       "        vertical-align: middle;\n",
       "    }\n",
       "\n",
       "    .dataframe tbody tr th {\n",
       "        vertical-align: top;\n",
       "    }\n",
       "\n",
       "    .dataframe thead th {\n",
       "        text-align: right;\n",
       "    }\n",
       "</style>\n",
       "<table border=\"1\" class=\"dataframe\">\n",
       "  <thead>\n",
       "    <tr style=\"text-align: right;\">\n",
       "      <th></th>\n",
       "      <th>game_title</th>\n",
       "      <th>score</th>\n",
       "    </tr>\n",
       "  </thead>\n",
       "  <tbody>\n",
       "    <tr>\n",
       "      <th>0</th>\n",
       "      <td>Grand Theft Auto V</td>\n",
       "      <td>1.922338</td>\n",
       "    </tr>\n",
       "    <tr>\n",
       "      <th>1</th>\n",
       "      <td>Dirty Bomb</td>\n",
       "      <td>1.656100</td>\n",
       "    </tr>\n",
       "    <tr>\n",
       "      <th>2</th>\n",
       "      <td>RaceRoom Racing Experience</td>\n",
       "      <td>1.387588</td>\n",
       "    </tr>\n",
       "    <tr>\n",
       "      <th>3</th>\n",
       "      <td>Race The Sun</td>\n",
       "      <td>1.358464</td>\n",
       "    </tr>\n",
       "    <tr>\n",
       "      <th>4</th>\n",
       "      <td>Stealth Inc 2</td>\n",
       "      <td>1.198322</td>\n",
       "    </tr>\n",
       "    <tr>\n",
       "      <th>5</th>\n",
       "      <td>Mechanic Escape</td>\n",
       "      <td>1.092194</td>\n",
       "    </tr>\n",
       "    <tr>\n",
       "      <th>6</th>\n",
       "      <td>DogFighter</td>\n",
       "      <td>1.069371</td>\n",
       "    </tr>\n",
       "    <tr>\n",
       "      <th>7</th>\n",
       "      <td>Really Big Sky</td>\n",
       "      <td>1.059654</td>\n",
       "    </tr>\n",
       "    <tr>\n",
       "      <th>8</th>\n",
       "      <td>Bejeweled 3</td>\n",
       "      <td>1.047831</td>\n",
       "    </tr>\n",
       "    <tr>\n",
       "      <th>9</th>\n",
       "      <td>Platypus II</td>\n",
       "      <td>1.019170</td>\n",
       "    </tr>\n",
       "  </tbody>\n",
       "</table>\n",
       "</div>"
      ],
      "text/plain": [
       "                   game_title     score\n",
       "0          Grand Theft Auto V  1.922338\n",
       "1                  Dirty Bomb  1.656100\n",
       "2  RaceRoom Racing Experience  1.387588\n",
       "3                Race The Sun  1.358464\n",
       "4               Stealth Inc 2  1.198322\n",
       "5             Mechanic Escape  1.092194\n",
       "6                  DogFighter  1.069371\n",
       "7              Really Big Sky  1.059654\n",
       "8                 Bejeweled 3  1.047831\n",
       "9                 Platypus II  1.019170"
      ]
     },
     "metadata": {},
     "output_type": "display_data"
    },
    {
     "data": {
      "text/html": [
       "<div>\n",
       "<style scoped>\n",
       "    .dataframe tbody tr th:only-of-type {\n",
       "        vertical-align: middle;\n",
       "    }\n",
       "\n",
       "    .dataframe tbody tr th {\n",
       "        vertical-align: top;\n",
       "    }\n",
       "\n",
       "    .dataframe thead th {\n",
       "        text-align: right;\n",
       "    }\n",
       "</style>\n",
       "<table border=\"1\" class=\"dataframe\">\n",
       "  <thead>\n",
       "    <tr style=\"text-align: right;\">\n",
       "      <th></th>\n",
       "      <th>game_title</th>\n",
       "      <th>score</th>\n",
       "    </tr>\n",
       "  </thead>\n",
       "  <tbody>\n",
       "    <tr>\n",
       "      <th>0</th>\n",
       "      <td>The Crew</td>\n",
       "      <td>0.668699</td>\n",
       "    </tr>\n",
       "    <tr>\n",
       "      <th>1</th>\n",
       "      <td>DiRT Rally</td>\n",
       "      <td>0.661618</td>\n",
       "    </tr>\n",
       "    <tr>\n",
       "      <th>2</th>\n",
       "      <td>Next Car Game Wreckfest</td>\n",
       "      <td>0.652928</td>\n",
       "    </tr>\n",
       "    <tr>\n",
       "      <th>3</th>\n",
       "      <td>Pahelika Secret Legends</td>\n",
       "      <td>0.644453</td>\n",
       "    </tr>\n",
       "    <tr>\n",
       "      <th>4</th>\n",
       "      <td>Deep Eclipse</td>\n",
       "      <td>0.644453</td>\n",
       "    </tr>\n",
       "    <tr>\n",
       "      <th>5</th>\n",
       "      <td>ARK Survival Evolved</td>\n",
       "      <td>0.632008</td>\n",
       "    </tr>\n",
       "    <tr>\n",
       "      <th>6</th>\n",
       "      <td>Next Car Game Sneak Peek 2.0</td>\n",
       "      <td>0.627596</td>\n",
       "    </tr>\n",
       "    <tr>\n",
       "      <th>7</th>\n",
       "      <td>BeamNG.drive</td>\n",
       "      <td>0.620672</td>\n",
       "    </tr>\n",
       "    <tr>\n",
       "      <th>8</th>\n",
       "      <td>Call of Duty Advanced Warfare - Multiplayer</td>\n",
       "      <td>0.617262</td>\n",
       "    </tr>\n",
       "    <tr>\n",
       "      <th>9</th>\n",
       "      <td>Call of Duty Advanced Warfare</td>\n",
       "      <td>0.611190</td>\n",
       "    </tr>\n",
       "  </tbody>\n",
       "</table>\n",
       "</div>"
      ],
      "text/plain": [
       "                                    game_title     score\n",
       "0                                     The Crew  0.668699\n",
       "1                                   DiRT Rally  0.661618\n",
       "2                      Next Car Game Wreckfest  0.652928\n",
       "3                      Pahelika Secret Legends  0.644453\n",
       "4                                 Deep Eclipse  0.644453\n",
       "5                         ARK Survival Evolved  0.632008\n",
       "6                 Next Car Game Sneak Peek 2.0  0.627596\n",
       "7                                 BeamNG.drive  0.620672\n",
       "8  Call of Duty Advanced Warfare - Multiplayer  0.617262\n",
       "9                Call of Duty Advanced Warfare  0.611190"
      ]
     },
     "metadata": {},
     "output_type": "display_data"
    },
    {
     "name": "stdout",
     "output_type": "stream",
     "text": [
      "💾 Saved factors → artifacts/als_final_factors.npz\n"
     ]
    }
   ],
   "source": [
    "import numpy as np\n",
    "from implicit.cpu.als import AlternatingLeastSquares\n",
    "\n",
    "# A) Retrain on ALL data with the best params\n",
    "BEST_FACTORS = 32\n",
    "BEST_REG     = 0.10\n",
    "BEST_ITERS   = 15\n",
    "\n",
    "als_final = AlternatingLeastSquares(\n",
    "    factors=BEST_FACTORS,\n",
    "    regularization=BEST_REG,\n",
    "    iterations=BEST_ITERS\n",
    ")\n",
    "als_final.fit(user_item_matrix.T.tocsr())   # train on all interactions\n",
    "print(\"✅ Trained final ALS on ALL data\")\n",
    "\n",
    "# Detect orientation once\n",
    "n_users, n_items = user_item_matrix.shape\n",
    "if als_final.user_factors.shape[0] == n_users and als_final.item_factors.shape[0] == n_items:\n",
    "    U_final = als_final.user_factors\n",
    "    I_final = als_final.item_factors\n",
    "    orient  = \"normal\"\n",
    "else:\n",
    "    U_final = als_final.item_factors   # users\n",
    "    I_final = als_final.user_factors   # items\n",
    "    orient  = \"swapped\"\n",
    "print(\"Orientation:\", orient)\n",
    "\n",
    "# B) Helper: recommend for a userId (top-K, excluding already seen)\n",
    "def recommend_for_user(user_id: int, K: int = 10):\n",
    "    u_vec = U_final[user_id]\n",
    "    scores = I_final @ u_vec\n",
    "    # hide seen items\n",
    "    seen = user_item_matrix[user_id].indices\n",
    "    scores[seen] = -np.inf\n",
    "    top = np.argpartition(scores, -K)[-K:]\n",
    "    top = top[np.argsort(scores[top])[::-1]]\n",
    "    out = (\n",
    "        pd.DataFrame({\"itemId\": top, \"score\": scores[top]})\n",
    "          .merge(item_ids, on=\"itemId\", how=\"left\")[[\"game_title\",\"score\"]]\n",
    "    )\n",
    "    return out\n",
    "\n",
    "# C) Helper: similar items (“because you played X”)\n",
    "#    takes a game title → returns K nearest games by cosine over item factors\n",
    "def similar_items(game_title: str, K: int = 10):\n",
    "    row = item_ids.loc[item_ids[\"game_title\"] == game_title]\n",
    "    if row.empty:\n",
    "        raise ValueError(\"Game title not found in item_ids.\")\n",
    "    iid = int(row[\"itemId\"].values[0])\n",
    "\n",
    "    # cosine similarity using item factors\n",
    "    q = I_final[iid]                                    # (factors,)\n",
    "    norms = np.linalg.norm(I_final, axis=1) * np.linalg.norm(q)\n",
    "    sims = (I_final @ q) / np.maximum(norms, 1e-9)\n",
    "\n",
    "    # remove itself\n",
    "    sims[iid] = -np.inf\n",
    "    top = np.argpartition(sims, -K)[-K:]\n",
    "    top = top[np.argsort(sims[top])[::-1]]\n",
    "    out = (\n",
    "        pd.DataFrame({\"itemId\": top, \"score\": sims[top]})\n",
    "          .merge(item_ids, on=\"itemId\", how=\"left\")[[\"game_title\",\"score\"]]\n",
    "    )\n",
    "    return out\n",
    "\n",
    "# D) Quick demo: most-active user and 1 example similar-items call\n",
    "demo_user = int(ratings[\"userId\"].value_counts().idxmax())\n",
    "demo_recs = recommend_for_user(demo_user, K=10)\n",
    "demo_sim  = similar_items(demo_recs.iloc[0][\"game_title\"], K=10)\n",
    "\n",
    "display(demo_recs.head(10))\n",
    "display(demo_sim.head(10))\n",
    "\n",
    "# E) (Optional) Save factors to disk\n",
    "np.savez(\n",
    "    \"artifacts/als_final_factors.npz\",\n",
    "    U=U_final.astype(np.float32),\n",
    "    I=I_final.astype(np.float32),\n",
    "    factors=np.int32(BEST_FACTORS)\n",
    ")\n",
    "print(\"💾 Saved factors → artifacts/als_final_factors.npz\")"
   ]
  },
  {
   "cell_type": "markdown",
   "id": "39257177",
   "metadata": {},
   "source": [
    "#### What this does (simple):\n",
    "\t•\tRetrains ALS on all interactions with the best hyperparams.\n",
    "\t•\tAdds two helpers you can reuse anywhere:\n",
    "\t•\trecommend_for_user(user_id, K)\n",
    "\t•\tsimilar_items(game_title, K)\n",
    "\t•\tSaves factor matrices so it can be loaded later without retraining.\n",
    "    \n",
    "#### Popularity baseline & compare vs ALS"
   ]
  },
  {
   "cell_type": "code",
   "execution_count": 46,
   "id": "6c6a5299",
   "metadata": {},
   "outputs": [
    {
     "name": "stdout",
     "output_type": "stream",
     "text": [
      "ALS Recall@10 (holdout): 0.398\n",
      "Popularity Recall@10:    0.225\n",
      "Relative lift of ALS vs Popularity: 76.8%\n"
     ]
    }
   ],
   "source": [
    "import numpy as np\n",
    "import pandas as pd\n",
    "\n",
    "# ---------- Helper to evaluate Recall@10 on our holdout split ----------\n",
    "def recall_at_10_for_factors(U, I, users_eval, M_train, heldout):\n",
    "    K = 10\n",
    "    hits = 0\n",
    "    for u in users_eval:\n",
    "        u_vec  = U[u]\n",
    "        scores = I @ u_vec\n",
    "        scores[M_train[u].indices] = -np.inf  # hide TRAIN items\n",
    "        top = np.argpartition(scores, -K)[-K:]\n",
    "        if heldout[u] in top:\n",
    "            hits += 1\n",
    "    return hits / len(users_eval)\n",
    "\n",
    "# ---------- 1) Evaluate ALS (holdout model we already trained) ----------\n",
    "# pick correct orientation\n",
    "if als_holdout.user_factors.shape[0] == n_users and als_holdout.item_factors.shape[0] == n_items:\n",
    "    U_h, I_h = als_holdout.user_factors, als_holdout.item_factors\n",
    "else:\n",
    "    U_h, I_h = als_holdout.item_factors, als_holdout.user_factors\n",
    "\n",
    "users_eval = list(test_item_for_user.keys())\n",
    "als_recall10 = recall_at_10_for_factors(U_h, I_h, users_eval, M_train, test_item_for_user)\n",
    "print(f\"ALS Recall@10 (holdout): {als_recall10:.3f}\")\n",
    "\n",
    "# ---------- 2) Popularity baseline ----------\n",
    "# Global popularity by total rating (you can try count() as a variant)\n",
    "popularity = ratings.groupby(\"itemId\")[\"rating\"].sum().sort_values(ascending=False)\n",
    "pop_order = popularity.index.to_numpy()  # itemIds sorted most→least popular\n",
    "\n",
    "def topK_pop_for_user(u, K=10):\n",
    "    seen = set(M_train[u].indices)  # don't recommend what was in TRAIN\n",
    "    picked = []\n",
    "    for iid in pop_order:\n",
    "        if iid not in seen:\n",
    "            picked.append(iid)\n",
    "            if len(picked) == K:\n",
    "                break\n",
    "    return picked\n",
    "\n",
    "# Evaluate popularity Recall@10\n",
    "K = 10\n",
    "hits = 0\n",
    "for u in users_eval:\n",
    "    topk = topK_pop_for_user(u, K)\n",
    "    hits += int(test_item_for_user[u] in topk)\n",
    "pop_recall10 = hits / len(users_eval)\n",
    "print(f\"Popularity Recall@10:    {pop_recall10:.3f}\")\n",
    "\n",
    "# ---------- 3) Show lift ----------\n",
    "lift = (als_recall10 - pop_recall10) / max(pop_recall10, 1e-9)\n",
    "print(f\"Relative lift of ALS vs Popularity: {lift:.1%}\")"
   ]
  },
  {
   "cell_type": "markdown",
   "id": "eeca4430",
   "metadata": {},
   "source": [
    "#### What this does:\n",
    "\t•\tPopularity baseline = recommend the globally most popular games to everyone (excluding what a user already saw in TRAIN).\n",
    "\t•\tWe compute Recall@10 for both ALS and Popularity on the same holdout users.\n",
    "\t•\tWe print the relative lift to show how much ALS beats the naive strategy.\n",
    "    \n",
    "#### Simple explanation:\n",
    "\t•\tALS Recall@10 = 0.398 → Your recommender correctly suggested relevant games for ~40% of users in the top 10 recommendations.\n",
    "\t•\tPopularity Recall@10 = 0.225 → If you just recommended the most popular games (no personalization), only 22.5% of users’ interests would be captured.\n",
    "\t•\tLift = 76.8% → ALS improves recall by ~77% compared to a naive popularity-based recommender.\n",
    "\n",
    "#### Interpretation:\n",
    "\n",
    "This means your ALS model is working well — it learns user–game patterns and recommends better than popularity alone.\n",
    "However, we could still improve performance by:\n",
    "\t1.\tIncreasing data (more interactions → better matrix density).\n",
    "\t2.\tTuning ALS hyperparameters (factors, regularization, iterations).\n",
    "\t3.\tIncorporating content features later (e.g., genres, tags, price)."
   ]
  },
  {
   "cell_type": "markdown",
   "id": "6fe271dc",
   "metadata": {},
   "source": [
    "# Building the Model\n",
    "\t•\tUsed the Alternating Least Squares (ALS) algorithm from the implicit library.\n",
    "\t•\tThis model learns hidden patterns between users and games (like genres or styles they prefer).\n",
    "\t•\tTuned the model by changing parameters like factors, regularization, and iterations.\n",
    "\t•\tThe best setup was:\n",
    "\t•\tfactors = 32\n",
    "\t•\tregularization = 0.1\n",
    "\t•\titerations = 15\n",
    "\n",
    "# Results\n",
    "\n",
    "We checked how well the model predicts what users might like using Recall@10 (how often the correct game is in the top 10 suggestions).\n",
    "\t\n",
    "    •\tALS Recall@10: 0.398\n",
    "\t•\tPopularity Recall@10: 0.225\n",
    "\n",
    "➡️ ALS performed 77% better than just recommending the most popular games.\n",
    "\n",
    "⸻\n",
    "\n",
    "\n",
    "## Top Recommendations for a User"
   ]
  },
  {
   "cell_type": "code",
   "execution_count": 50,
   "id": "0f9cedfd",
   "metadata": {},
   "outputs": [
    {
     "data": {
      "text/html": [
       "<div>\n",
       "<style scoped>\n",
       "    .dataframe tbody tr th:only-of-type {\n",
       "        vertical-align: middle;\n",
       "    }\n",
       "\n",
       "    .dataframe tbody tr th {\n",
       "        vertical-align: top;\n",
       "    }\n",
       "\n",
       "    .dataframe thead th {\n",
       "        text-align: right;\n",
       "    }\n",
       "</style>\n",
       "<table border=\"1\" class=\"dataframe\">\n",
       "  <thead>\n",
       "    <tr style=\"text-align: right;\">\n",
       "      <th></th>\n",
       "      <th>game_title</th>\n",
       "      <th>score</th>\n",
       "    </tr>\n",
       "  </thead>\n",
       "  <tbody>\n",
       "    <tr>\n",
       "      <th>0</th>\n",
       "      <td>Day of Defeat Source</td>\n",
       "      <td>0.594982</td>\n",
       "    </tr>\n",
       "    <tr>\n",
       "      <th>1</th>\n",
       "      <td>Half-Life 2 Episode One</td>\n",
       "      <td>0.310314</td>\n",
       "    </tr>\n",
       "    <tr>\n",
       "      <th>2</th>\n",
       "      <td>Half-Life Deathmatch Source</td>\n",
       "      <td>0.294664</td>\n",
       "    </tr>\n",
       "    <tr>\n",
       "      <th>3</th>\n",
       "      <td>Half-Life 2 Episode Two</td>\n",
       "      <td>0.251939</td>\n",
       "    </tr>\n",
       "    <tr>\n",
       "      <th>4</th>\n",
       "      <td>Half-Life Source</td>\n",
       "      <td>0.217897</td>\n",
       "    </tr>\n",
       "    <tr>\n",
       "      <th>5</th>\n",
       "      <td>Portal</td>\n",
       "      <td>0.160888</td>\n",
       "    </tr>\n",
       "    <tr>\n",
       "      <th>6</th>\n",
       "      <td>Garry's Mod</td>\n",
       "      <td>0.133570</td>\n",
       "    </tr>\n",
       "    <tr>\n",
       "      <th>7</th>\n",
       "      <td>Left 4 Dead</td>\n",
       "      <td>0.087752</td>\n",
       "    </tr>\n",
       "    <tr>\n",
       "      <th>8</th>\n",
       "      <td>Zombie Panic Source</td>\n",
       "      <td>0.073845</td>\n",
       "    </tr>\n",
       "    <tr>\n",
       "      <th>9</th>\n",
       "      <td>Counter-Strike Condition Zero Deleted Scenes</td>\n",
       "      <td>0.065598</td>\n",
       "    </tr>\n",
       "  </tbody>\n",
       "</table>\n",
       "</div>"
      ],
      "text/plain": [
       "                                     game_title     score\n",
       "0                          Day of Defeat Source  0.594982\n",
       "1                       Half-Life 2 Episode One  0.310314\n",
       "2                   Half-Life Deathmatch Source  0.294664\n",
       "3                       Half-Life 2 Episode Two  0.251939\n",
       "4                              Half-Life Source  0.217897\n",
       "5                                        Portal  0.160888\n",
       "6                                   Garry's Mod  0.133570\n",
       "7                                   Left 4 Dead  0.087752\n",
       "8                           Zombie Panic Source  0.073845\n",
       "9  Counter-Strike Condition Zero Deleted Scenes  0.065598"
      ]
     },
     "metadata": {},
     "output_type": "display_data"
    }
   ],
   "source": [
    "# show the top-10 recs for user X (change X accordingly)\n",
    "display(recommend_for_user(37, K=10))"
   ]
  },
  {
   "cell_type": "code",
   "execution_count": 51,
   "id": "49447b4d",
   "metadata": {},
   "outputs": [
    {
     "data": {
      "image/png": "[encoded data removed]",
      "text/plain": [
       "<Figure size 1000x400 with 1 Axes>"
      ]
     },
     "metadata": {},
     "output_type": "display_data"
    }
   ],
   "source": [
    "import matplotlib.pyplot as plt\n",
    "\n",
    "demo_user = 37 # change accordingly\n",
    "topk = recommend_for_user(demo_user, K=10)\n",
    "\n",
    "plt.figure(figsize=(10, 4))\n",
    "plt.barh(topk[\"game_title\"].iloc[::-1], topk[\"score\"].iloc[::-1])\n",
    "plt.title(f\"Top-10 recommendations for user {demo_user}\")\n",
    "plt.xlabel(\"score\")\n",
    "plt.tight_layout()\n",
    "plt.show()"
   ]
  },
  {
   "cell_type": "markdown",
   "id": "96b7e78b",
   "metadata": {},
   "source": [
    "### “Because You Played…” & Viewed Games\n",
    "\n",
    "seeing what the same user has already interacted with and comparing it to their recommendations"
   ]
  },
  {
   "cell_type": "code",
   "execution_count": 53,
   "id": "344c4764",
   "metadata": {},
   "outputs": [],
   "source": [
    "def show_user_history_and_recs(user_id, ratings_df, item_df, top_n=10):\n",
    "    # 1) What the user has interacted with\n",
    "    played_ids = ratings_df.loc[ratings_df[\"userId\"] == user_id, \"itemId\"].tolist()\n",
    "    played_titles = item_df.loc[item_df[\"itemId\"].isin(played_ids), \"game_title\"].tolist()\n",
    "\n",
    "    print(f\"🎮 User {user_id} has played ({len(played_titles)} titles, showing up to 10):\")\n",
    "    for t in played_titles[:10]:\n",
    "        print(\"  -\", t)\n",
    "\n",
    "    # 2) What we recommend next (uses the safe helper)\n",
    "    print(\"\\n💡 Because you played these, you may also like:\")\n",
    "    rec_df = recommend_for_user(user_id, K=top_n)\n",
    "    display(rec_df)"
   ]
  },
  {
   "cell_type": "code",
   "execution_count": 54,
   "id": "5e1d529f",
   "metadata": {},
   "outputs": [
    {
     "name": "stdout",
     "output_type": "stream",
     "text": [
      "🎮 User 25 has played (1 titles, showing up to 10):\n",
      "  - Dota 2\n",
      "\n",
      "💡 Because you played these, you may also like:\n"
     ]
    },
    {
     "data": {
      "text/html": [
       "<div>\n",
       "<style scoped>\n",
       "    .dataframe tbody tr th:only-of-type {\n",
       "        vertical-align: middle;\n",
       "    }\n",
       "\n",
       "    .dataframe tbody tr th {\n",
       "        vertical-align: top;\n",
       "    }\n",
       "\n",
       "    .dataframe thead th {\n",
       "        text-align: right;\n",
       "    }\n",
       "</style>\n",
       "<table border=\"1\" class=\"dataframe\">\n",
       "  <thead>\n",
       "    <tr style=\"text-align: right;\">\n",
       "      <th></th>\n",
       "      <th>game_title</th>\n",
       "      <th>score</th>\n",
       "    </tr>\n",
       "  </thead>\n",
       "  <tbody>\n",
       "    <tr>\n",
       "      <th>0</th>\n",
       "      <td>FreeStyle2 Street Basketball</td>\n",
       "      <td>0.034088</td>\n",
       "    </tr>\n",
       "    <tr>\n",
       "      <th>1</th>\n",
       "      <td>GunZ 2 The Second Duel</td>\n",
       "      <td>0.027883</td>\n",
       "    </tr>\n",
       "    <tr>\n",
       "      <th>2</th>\n",
       "      <td>Free to Play</td>\n",
       "      <td>0.023040</td>\n",
       "    </tr>\n",
       "    <tr>\n",
       "      <th>3</th>\n",
       "      <td>Quake Live</td>\n",
       "      <td>0.017209</td>\n",
       "    </tr>\n",
       "    <tr>\n",
       "      <th>4</th>\n",
       "      <td>War Thunder</td>\n",
       "      <td>0.012876</td>\n",
       "    </tr>\n",
       "    <tr>\n",
       "      <th>5</th>\n",
       "      <td>Ragnarok Online 2</td>\n",
       "      <td>0.011042</td>\n",
       "    </tr>\n",
       "    <tr>\n",
       "      <th>6</th>\n",
       "      <td>Magicka Wizard Wars</td>\n",
       "      <td>0.010052</td>\n",
       "    </tr>\n",
       "    <tr>\n",
       "      <th>7</th>\n",
       "      <td>SMITE</td>\n",
       "      <td>0.010003</td>\n",
       "    </tr>\n",
       "    <tr>\n",
       "      <th>8</th>\n",
       "      <td>Serious Sam HD The Second Encounter</td>\n",
       "      <td>0.009543</td>\n",
       "    </tr>\n",
       "    <tr>\n",
       "      <th>9</th>\n",
       "      <td>Everlasting Summer</td>\n",
       "      <td>0.008842</td>\n",
       "    </tr>\n",
       "  </tbody>\n",
       "</table>\n",
       "</div>"
      ],
      "text/plain": [
       "                            game_title     score\n",
       "0         FreeStyle2 Street Basketball  0.034088\n",
       "1               GunZ 2 The Second Duel  0.027883\n",
       "2                         Free to Play  0.023040\n",
       "3                           Quake Live  0.017209\n",
       "4                          War Thunder  0.012876\n",
       "5                    Ragnarok Online 2  0.011042\n",
       "6                  Magicka Wizard Wars  0.010052\n",
       "7                                SMITE  0.010003\n",
       "8  Serious Sam HD The Second Encounter  0.009543\n",
       "9                   Everlasting Summer  0.008842"
      ]
     },
     "metadata": {},
     "output_type": "display_data"
    }
   ],
   "source": [
    "show_user_history_and_recs(25, ratings, item_ids, top_n=10)"
   ]
  },
  {
   "cell_type": "code",
   "execution_count": 56,
   "id": "0155e3da",
   "metadata": {},
   "outputs": [
    {
     "name": "stdout",
     "output_type": "stream",
     "text": [
      "\n",
      "🎯 Because you played: Dota 2\n"
     ]
    },
    {
     "data": {
      "text/html": [
       "<div>\n",
       "<style scoped>\n",
       "    .dataframe tbody tr th:only-of-type {\n",
       "        vertical-align: middle;\n",
       "    }\n",
       "\n",
       "    .dataframe tbody tr th {\n",
       "        vertical-align: top;\n",
       "    }\n",
       "\n",
       "    .dataframe thead th {\n",
       "        text-align: right;\n",
       "    }\n",
       "</style>\n",
       "<table border=\"1\" class=\"dataframe\">\n",
       "  <thead>\n",
       "    <tr style=\"text-align: right;\">\n",
       "      <th></th>\n",
       "      <th>game_title</th>\n",
       "      <th>score</th>\n",
       "    </tr>\n",
       "  </thead>\n",
       "  <tbody>\n",
       "    <tr>\n",
       "      <th>0</th>\n",
       "      <td>Cabela's Hunting Expeditions</td>\n",
       "      <td>0.951754</td>\n",
       "    </tr>\n",
       "    <tr>\n",
       "      <th>1</th>\n",
       "      <td>Runestone Keeper</td>\n",
       "      <td>0.932423</td>\n",
       "    </tr>\n",
       "    <tr>\n",
       "      <th>2</th>\n",
       "      <td>Free to Play</td>\n",
       "      <td>0.644949</td>\n",
       "    </tr>\n",
       "    <tr>\n",
       "      <th>3</th>\n",
       "      <td>Adventures of Bertram Fiddle Episode 1 A Dread...</td>\n",
       "      <td>0.603010</td>\n",
       "    </tr>\n",
       "    <tr>\n",
       "      <th>4</th>\n",
       "      <td>Counter-Strike Global Offensive</td>\n",
       "      <td>0.568404</td>\n",
       "    </tr>\n",
       "    <tr>\n",
       "      <th>5</th>\n",
       "      <td>Team Fortress 2</td>\n",
       "      <td>0.559667</td>\n",
       "    </tr>\n",
       "    <tr>\n",
       "      <th>6</th>\n",
       "      <td>Quake Live</td>\n",
       "      <td>0.551484</td>\n",
       "    </tr>\n",
       "    <tr>\n",
       "      <th>7</th>\n",
       "      <td>PAYDAY 2</td>\n",
       "      <td>0.526492</td>\n",
       "    </tr>\n",
       "    <tr>\n",
       "      <th>8</th>\n",
       "      <td>Strife</td>\n",
       "      <td>0.523265</td>\n",
       "    </tr>\n",
       "    <tr>\n",
       "      <th>9</th>\n",
       "      <td>Everlasting Summer</td>\n",
       "      <td>0.520075</td>\n",
       "    </tr>\n",
       "  </tbody>\n",
       "</table>\n",
       "</div>"
      ],
      "text/plain": [
       "                                          game_title     score\n",
       "0                       Cabela's Hunting Expeditions  0.951754\n",
       "1                                   Runestone Keeper  0.932423\n",
       "2                                       Free to Play  0.644949\n",
       "3  Adventures of Bertram Fiddle Episode 1 A Dread...  0.603010\n",
       "4                    Counter-Strike Global Offensive  0.568404\n",
       "5                                    Team Fortress 2  0.559667\n",
       "6                                         Quake Live  0.551484\n",
       "7                                           PAYDAY 2  0.526492\n",
       "8                                             Strife  0.523265\n",
       "9                                 Everlasting Summer  0.520075"
      ]
     },
     "metadata": {},
     "output_type": "display_data"
    }
   ],
   "source": [
    "# pick any game from the user's history (if available)\n",
    "if played_titles := item_ids.loc[item_ids[\"itemId\"].isin(\n",
    "        ratings.loc[ratings[\"userId\"]==25,\"itemId\"].tolist()\n",
    "    ), \"game_title\"].tolist():\n",
    "    seed = played_titles[0]\n",
    "    print(f\"\\n🎯 Because you played: {seed}\")\n",
    "    display(similar_items(seed, K=10))"
   ]
  },
  {
   "cell_type": "markdown",
   "id": "cfd2be0b",
   "metadata": {},
   "source": [
    "#### Why this works\n",
    "\t•\tUses the helpers we built earlier:\n",
    "\t•\trecommend_for_user() scores items with the correct factor orientation and excludes already-seen games.\n",
    "\t•\tsimilar_items() does item–item cosine on the trained item factors.\n",
    "\t•\tNo direct calls to implicit.recommend() → no “single-row” error.\n",
    "\n",
    "### What you see:\n",
    "1.\ta short list of what the user has played, and\n",
    "2.\ta ranked table of recommended games."
   ]
  },
  {
   "cell_type": "code",
   "execution_count": 57,
   "id": "c242fb22",
   "metadata": {},
   "outputs": [
    {
     "data": {
      "image/png": "[encoded data removed]",
      "text/plain": [
       "<Figure size 1000x400 with 1 Axes>"
      ]
     },
     "metadata": {},
     "output_type": "display_data"
    }
   ],
   "source": [
    "import matplotlib.pyplot as plt\n",
    "\n",
    "def plot_user_recs(user_id: int, k: int = 10):\n",
    "    topk = recommend_for_user(user_id, K=k)\n",
    "    plt.figure(figsize=(10, 4))\n",
    "    plt.barh(topk[\"game_title\"].iloc[::-1], topk[\"score\"].iloc[::-1])\n",
    "    plt.title(f\"Top-{k} recommendations for user {user_id}\")\n",
    "    plt.xlabel(\"ALS score (higher = stronger match)\")\n",
    "    plt.tight_layout()\n",
    "    plt.show()\n",
    "\n",
    "# example\n",
    "plot_user_recs(25, k=10)"
   ]
  },
  {
   "cell_type": "code",
   "execution_count": 58,
   "id": "bcd0ab53",
   "metadata": {},
   "outputs": [
    {
     "data": {
      "image/png": "[encoded data removed]",
      "text/plain": [
       "<Figure size 1000x400 with 1 Axes>"
      ]
     },
     "metadata": {},
     "output_type": "display_data"
    }
   ],
   "source": [
    "def plot_similar(title: str, k: int = 10):\n",
    "    sims = similar_items(title, K=k)\n",
    "    plt.figure(figsize=(10, 4))\n",
    "    plt.barh(sims[\"game_title\"].iloc[::-1], sims[\"score\"].iloc[::-1])\n",
    "    plt.title(f\"Because you played: {title}\")\n",
    "    plt.xlabel(\"Cosine similarity\")\n",
    "    plt.tight_layout()\n",
    "    plt.show()\n",
    "\n",
    "# example\n",
    "plot_similar(\"Dota 2\", k=10)"
   ]
  },
  {
   "cell_type": "markdown",
   "id": "7bb2b0a8",
   "metadata": {},
   "source": [
    "#  Insights\n",
    "\t•\tThe ALS model gives much more personalized recommendations.\n",
    "\t•\tIt can suggest games similar to what each user already enjoys (“Because you played X…”).\n",
    "\t•\tPopularity-only models miss this personalization — they treat every user the same."
   ]
  },
  {
   "cell_type": "markdown",
   "id": "8fcfaeb6",
   "metadata": {},
   "source": [
    "# Conclusion\n",
    "\n",
    "In this project, we built a personalized game recommendation system using the Steam dataset.\n",
    "We cleaned and prepared the data with SQL, created a preference score, and trained an ALS model in Python to predict which games users might enjoy next.\n",
    "The model achieved a Recall@10 of 0.398, about 77% better than simple popularity-based suggestions.\n",
    "Overall, this project showed how combining SQL, Python, and machine learning can uncover player behavior and build real-world recommendation systems like those used by Xbox or Netflix."
   ]
  }
 ],
 "metadata": {
  "kernelspec": {
   "display_name": "Python 3 (ipykernel)",
   "language": "python",
   "name": "python3"
  },
  "language_info": {
   "codemirror_mode": {
    "name": "ipython",
    "version": 3
   },
   "file_extension": ".py",
   "mimetype": "text/x-python",
   "name": "python",
   "nbconvert_exporter": "python",
   "pygments_lexer": "ipython3",
   "version": "3.9.13"
  }
 },
 "nbformat": 4,
 "nbformat_minor": 5
}
